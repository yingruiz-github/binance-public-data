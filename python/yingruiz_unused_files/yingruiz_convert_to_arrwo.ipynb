{
 "cells": [
  {
   "cell_type": "code",
   "execution_count": 84,
   "metadata": {},
   "outputs": [],
   "source": [
    "import pandas as pd\n",
    "import numpy as np\n",
    "import zipfile\n",
    "from pathlib import Path\n",
    "import gc\n",
    "from tqdm import tqdm\n",
    "import pyarrow.parquet as pq\n",
    "import pyarrow as pa\n",
    "import psutil\n",
    "import shutil"
   ]
  },
  {
   "cell_type": "code",
   "execution_count": 2,
   "metadata": {},
   "outputs": [],
   "source": [
    "data_dir = Path(\"/workspace/projects/binance-public-data/python/data\")\n",
    "header = ['open_time',\n",
    "        'open',\n",
    "        'high',\n",
    "        'low',\n",
    "        'close',\n",
    "        'volume',\n",
    "        'close_time',\n",
    "        'quote_volume',\n",
    "        'count',\n",
    "        'taker_buy_volume',\n",
    "        'taker_buy_quote_volume',\n",
    "        'ignore'\n",
    "    ]\n",
    "TRADE_HEADERS = [\"id\",\n",
    "\"price\",\t\n",
    "#Price\n",
    "\"qty\",\t\n",
    "#Quantity\n",
    "\"base_qty\",\t\n",
    "#Base Quantity\n",
    "\"time\",\n",
    "#Time in unix time format\n",
    "\"is_buyer_maker\",\n",
    "\"is_best_match\"\n",
    "]\t\n",
    "\n",
    "\n",
    "AGG_TRADE_HEADERS = [\"agg_trade_id\",\t\n",
    "# Aggregated Trade ID\n",
    "\"price\",\t\n",
    "# Price\n",
    "\"quantity\",\t\n",
    "# Quantity\n",
    "\"first_trade_id\",\t\n",
    "# First Trade ID\n",
    "\"last_trade_id\",\t\n",
    "# Last Trade ID\n",
    "\"transact_time\",\t\n",
    "# Transaction time in unix format\n",
    "\"is_buyer_maker\"]"
   ]
  },
  {
   "cell_type": "code",
   "execution_count": 81,
   "metadata": {},
   "outputs": [],
   "source": [
    "def memory_usage():\n",
    "    process = psutil.Process()\n",
    "    r = process.memory_info().rss / (1024 ** 3)\n",
    "    return r\n",
    "\n",
    "def read_kline_data(data_dir, header):\n",
    "    month_dir = Path(data_dir) / f\"spot/monthly/klines\"\n",
    "    day_dir = Path(data_dir) / f\"spot/daily/klines\" \n",
    "    \n",
    "    target_pairs_month = [path.name for path in month_dir.glob(\"*\")]\n",
    "    target_pairs_day = [path.name for path in day_dir.glob(\"*\")]\n",
    "    print(target_pairs_day)\n",
    "    assert set(target_pairs_month) == set(target_pairs_day)\n",
    "    \n",
    "    intervals = [interval.name for interval in (month_dir / target_pairs_month[0]).glob(\"*\")]\n",
    "    \n",
    "    data_dic = {}\n",
    "    for pair in target_pairs_month:\n",
    "        data_dic[pair] = {interval:None for interval in intervals}\n",
    "    \n",
    "    for pair in tqdm(data_dic):\n",
    "        for interval in data_dic[pair]:\n",
    "            temp_holder = []\n",
    "            for zip_file in (month_dir / pair / interval).glob(\"**/*.zip\"):\n",
    "                temp_holder.append(pd.read_csv(zip_file, header=None).values)\n",
    "            for zip_file in (day_dir / pair / interval).glob(\"**/*.zip\"):\n",
    "                temp_holder.append(pd.read_csv(zip_file, header =None).values)\n",
    "            temp = pd.DataFrame(np.concatenate(temp_holder))\n",
    "\n",
    "            temp.columns = header\n",
    "            data_dic[pair][interval] = temp\n",
    "            \n",
    "        \n",
    "        #print(memory_usage())\n",
    "        gc.collect()\n",
    "    return data_dic\n",
    "\n",
    "def read_data(data_dir, target, header):\n",
    "    # processs path\n",
    "    assert target in {\"aggTrades\", \"trades\"}, f\"valid targets are aggTrades, klines, trades\"\n",
    "    month_dir = Path(data_dir) / f\"spot/monthly/{target}\"\n",
    "    day_dir = Path(data_dir) / f\"spot/daily/{target}\" \n",
    "    \n",
    "    target_pairs_month = [path.name for path in month_dir.glob(\"*\")]\n",
    "    target_pairs_day = [path.name for path in day_dir.glob(\"*\")]\n",
    "    # print(target_pairs_day)\n",
    "    assert set(target_pairs_month) == set(target_pairs_day)    \n",
    "    \n",
    "    \n",
    "    target_pairs = target_pairs_month\n",
    "    data_dic = {}\n",
    "    for pair in target_pairs:\n",
    "        data_dic[pair] = None\n",
    "\n",
    "    for pair in tqdm(data_dic):\n",
    "        temp_holder = []\n",
    "        for zip_file in (month_dir / pair).glob(\"**/*.zip\"):\n",
    "            temp_holder.append(pd.read_csv(zip_file, header=None))\n",
    "            #gc.collect()\n",
    "            print(memory_usage(), zip_file)\n",
    "        for zip_file in (day_dir / pair).glob(\"**/*.zip\"):\n",
    "            temp_holder.append(pd.read_csv(zip_file, header =None))\n",
    "        temp = pd.concat(temp_holder, ignore_index=True)\n",
    "        \n",
    "        #print(count)\n",
    "        # return temp\n",
    "    \n",
    "        temp.columns = header\n",
    "        data_dic[pair] = temp\n",
    "        \n",
    "        # show this epoch memory usage\n",
    "        # print(memory_usage())\n",
    "        gc.collect()\n",
    "    return data_dic\n",
    "\n",
    "def read_trade_zip_and_store_to_arrow(data_dir, target, pair, header):\n",
    "    assert target in {\"aggTrades\", \"trades\"}, f\"valid targets are aggTrades, klines, trades\"\n",
    "    month_dir = Path(data_dir) / f\"spot/monthly/{target}\"\n",
    "    day_dir = Path(data_dir) / f\"spot/daily/{target}\" \n",
    "    \n",
    "    temp_holder = []\n",
    "    for zip_file in (month_dir / pair).glob(\"**/*.zip\"):\n",
    "        temp_holder.append(pd.read_csv(zip_file, header=None))\n",
    "        #gc.collect()\n",
    "        # print(memory_usage(), zip_file)\n",
    "    for zip_file in (day_dir / pair).glob(\"**/*.zip\"):\n",
    "        temp_holder.append(pd.read_csv(zip_file, header =None))\n",
    "    temp = pd.concat(temp_holder, ignore_index=True)\n",
    "\n",
    "    temp.columns = header\n",
    "    \n",
    "    new_save_dir = Path(\"/workspace/projects/binance-public-data/python/data/yingruiz_custom/klines\")\n",
    "    df = pa.Table.from_pandas(temp)\n",
    "    path = new_save_dir / f\"{pair}-{target}.parquet\"\n",
    "    pq.write_table(df, path)\n",
    "    \n",
    "    print(memory_usage(), shutil.disk_usage(\"/workspace\"))\n",
    "    \n",
    "    \n",
    "    \n",
    "    \n",
    "    \n",
    "    "
   ]
  },
  {
   "cell_type": "code",
   "execution_count": 25,
   "metadata": {},
   "outputs": [
    {
     "data": {
      "text/plain": [
       "svmem(total=270059012096, available=170595020800, percent=36.8, used=97078005760, free=165688168448, active=15343468544, inactive=82648432640, buffers=19423232, cached=7273414656, shared=30707712, slab=4642025472)"
      ]
     },
     "execution_count": 25,
     "metadata": {},
     "output_type": "execute_result"
    }
   ],
   "source": [
    "import psutil\n",
    "psutil.virtual_memory()"
   ]
  },
  {
   "cell_type": "code",
   "execution_count": 27,
   "metadata": {},
   "outputs": [
    {
     "data": {
      "text/plain": [
       "158.8789939880371"
      ]
     },
     "execution_count": 27,
     "metadata": {},
     "output_type": "execute_result"
    }
   ],
   "source": [
    "170595020800 / 1024 ** 3"
   ]
  },
  {
   "cell_type": "code",
   "execution_count": 26,
   "metadata": {},
   "outputs": [
    {
     "data": {
      "text/plain": [
       "251.51205444335938"
      ]
     },
     "execution_count": 26,
     "metadata": {},
     "output_type": "execute_result"
    }
   ],
   "source": [
    "270059012096 / 1024 ** 3"
   ]
  },
  {
   "cell_type": "code",
   "execution_count": 43,
   "metadata": {},
   "outputs": [],
   "source": [
    "aggTrades_month_lst = data_dir / f\"spot/monthly/{'aggTrades'}/BNBUSDT\"\n",
    "trades_month_lst = data_dir / f\"spot/monthly/{'trades'}/BNBUSDT\"\n",
    "a = list(aggTrades_month_lst.glob(\"**/*.zip\"))[42]\n",
    "c = list(trades_month_lst.glob(\"**/*.zip\"))[42]"
   ]
  },
  {
   "cell_type": "code",
   "execution_count": 44,
   "metadata": {},
   "outputs": [],
   "source": [
    "b = pd.read_csv(c)"
   ]
  },
  {
   "cell_type": "code",
   "execution_count": null,
   "metadata": {},
   "outputs": [],
   "source": []
  },
  {
   "cell_type": "code",
   "execution_count": 51,
   "metadata": {},
   "outputs": [
    {
     "data": {
      "text/plain": [
       "2.5013656616210938"
      ]
     },
     "execution_count": 51,
     "metadata": {},
     "output_type": "execute_result"
    }
   ],
   "source": [
    "memory_usage()"
   ]
  },
  {
   "cell_type": "code",
   "execution_count": 46,
   "metadata": {},
   "outputs": [],
   "source": [
    "del b"
   ]
  },
  {
   "cell_type": "code",
   "execution_count": 33,
   "metadata": {},
   "outputs": [
    {
     "ename": "NameError",
     "evalue": "name 'a' is not defined",
     "output_type": "error",
     "traceback": [
      "\u001b[0;31m---------------------------------------------------------------------------\u001b[0m",
      "\u001b[0;31mNameError\u001b[0m                                 Traceback (most recent call last)",
      "Cell \u001b[0;32mIn[33], line 1\u001b[0m\n\u001b[0;32m----> 1\u001b[0m \u001b[38;5;28;01mdel\u001b[39;00m a\n",
      "\u001b[0;31mNameError\u001b[0m: name 'a' is not defined"
     ]
    }
   ],
   "source": [
    "del a"
   ]
  },
  {
   "cell_type": "code",
   "execution_count": 55,
   "metadata": {},
   "outputs": [
    {
     "data": {
      "text/plain": [
       "1842"
      ]
     },
     "execution_count": 55,
     "metadata": {},
     "output_type": "execute_result"
    }
   ],
   "source": [
    "gc.collect()"
   ]
  },
  {
   "cell_type": "code",
   "execution_count": 73,
   "metadata": {},
   "outputs": [],
   "source": [
    "a = pd.read_csv(\"/workspace/projects/binance-public-data/python/data/spot/monthly/trades/BNBUSDT/BNBUSDT-trades-2021-02.zip\", header = None)\n",
    "b = pd.read_csv(\"/workspace/projects/binance-public-data/python/data/spot/monthly/trades/BNBUSDT/BNBUSDT-trades-2021-03.zip\", header = None)"
   ]
  },
  {
   "cell_type": "code",
   "execution_count": 75,
   "metadata": {},
   "outputs": [],
   "source": [
    "c = pd.read_csv(\"/workspace/projects/binance-public-data/python/data/spot/monthly/trades/BNBUSDT/BNBUSDT-trades-2020-03.zip\", header = None)"
   ]
  },
  {
   "cell_type": "code",
   "execution_count": 78,
   "metadata": {},
   "outputs": [
    {
     "name": "stdout",
     "output_type": "stream",
     "text": [
      "(45727149, 7)\n"
     ]
    }
   ],
   "source": [
    "print(a.shape)\n",
    "new = pd.concat([a,b,c], ignore_index=True)"
   ]
  },
  {
   "cell_type": "code",
   "execution_count": 69,
   "metadata": {},
   "outputs": [
    {
     "data": {
      "text/plain": [
       "11.804935455322266"
      ]
     },
     "execution_count": 69,
     "metadata": {},
     "output_type": "execute_result"
    }
   ],
   "source": [
    "memory_usage()"
   ]
  },
  {
   "cell_type": "code",
   "execution_count": 68,
   "metadata": {},
   "outputs": [],
   "source": [
    "del a"
   ]
  },
  {
   "cell_type": "code",
   "execution_count": 60,
   "metadata": {},
   "outputs": [
    {
     "ename": "NameError",
     "evalue": "name 'a' is not defined",
     "output_type": "error",
     "traceback": [
      "\u001b[0;31m---------------------------------------------------------------------------\u001b[0m",
      "\u001b[0;31mNameError\u001b[0m                                 Traceback (most recent call last)",
      "Cell \u001b[0;32mIn[60], line 1\u001b[0m\n\u001b[0;32m----> 1\u001b[0m \u001b[43ma\u001b[49m\u001b[38;5;241m.\u001b[39mmemory_usage()\n",
      "\u001b[0;31mNameError\u001b[0m: name 'a' is not defined"
     ]
    }
   ],
   "source": [
    "a.memory_usage()"
   ]
  },
  {
   "cell_type": "code",
   "execution_count": 3,
   "metadata": {},
   "outputs": [
    {
     "ename": "NameError",
     "evalue": "name 'data_dir' is not defined",
     "output_type": "error",
     "traceback": [
      "\u001b[0;31m---------------------------------------------------------------------------\u001b[0m",
      "\u001b[0;31mNameError\u001b[0m                                 Traceback (most recent call last)",
      "Cell \u001b[0;32mIn[3], line 1\u001b[0m\n\u001b[0;32m----> 1\u001b[0m data \u001b[38;5;241m=\u001b[39m read_kline_data(\u001b[43mdata_dir\u001b[49m, header\u001b[38;5;241m=\u001b[39mheader)\n",
      "\u001b[0;31mNameError\u001b[0m: name 'data_dir' is not defined"
     ]
    }
   ],
   "source": [
    "data = read_kline_data(data_dir, header=header)"
   ]
  },
  {
   "cell_type": "code",
   "execution_count": 83,
   "metadata": {},
   "outputs": [
    {
     "data": {
      "text/plain": [
       "882"
      ]
     },
     "execution_count": 83,
     "metadata": {},
     "output_type": "execute_result"
    }
   ],
   "source": [
    "gc.collect()"
   ]
  },
  {
   "cell_type": "code",
   "execution_count": 82,
   "metadata": {},
   "outputs": [
    {
     "name": "stderr",
     "output_type": "stream",
     "text": [
      "  0%|          | 0/28 [00:00<?, ?it/s]"
     ]
    },
    {
     "name": "stdout",
     "output_type": "stream",
     "text": [
      "8.642505645751953 /workspace/projects/binance-public-data/python/data/spot/monthly/trades/SUNUSDT/SUNUSDT-trades-2020-09.zip\n",
      "8.642505645751953 /workspace/projects/binance-public-data/python/data/spot/monthly/trades/SUNUSDT/SUNUSDT-trades-2020-10.zip\n",
      "8.642505645751953 /workspace/projects/binance-public-data/python/data/spot/monthly/trades/SUNUSDT/SUNUSDT-trades-2020-11.zip\n",
      "8.642505645751953 /workspace/projects/binance-public-data/python/data/spot/monthly/trades/SUNUSDT/SUNUSDT-trades-2020-12.zip\n",
      "8.642505645751953 /workspace/projects/binance-public-data/python/data/spot/monthly/trades/SUNUSDT/SUNUSDT-trades-2021-01.zip\n",
      "8.642505645751953 /workspace/projects/binance-public-data/python/data/spot/monthly/trades/SUNUSDT/SUNUSDT-trades-2021-02.zip\n",
      "8.642505645751953 /workspace/projects/binance-public-data/python/data/spot/monthly/trades/SUNUSDT/SUNUSDT-trades-2021-03.zip\n",
      "8.642505645751953 /workspace/projects/binance-public-data/python/data/spot/monthly/trades/SUNUSDT/SUNUSDT-trades-2021-04.zip\n",
      "8.642505645751953 /workspace/projects/binance-public-data/python/data/spot/monthly/trades/SUNUSDT/SUNUSDT-trades-2021-05.zip\n",
      "8.642505645751953 /workspace/projects/binance-public-data/python/data/spot/monthly/trades/SUNUSDT/SUNUSDT-trades-2021-06.zip\n",
      "8.642505645751953 /workspace/projects/binance-public-data/python/data/spot/monthly/trades/SUNUSDT/SUNUSDT-trades-2021-07.zip\n",
      "8.642505645751953 /workspace/projects/binance-public-data/python/data/spot/monthly/trades/SUNUSDT/SUNUSDT-trades-2021-08.zip\n",
      "8.642505645751953 /workspace/projects/binance-public-data/python/data/spot/monthly/trades/SUNUSDT/SUNUSDT-trades-2021-09.zip\n",
      "8.642505645751953 /workspace/projects/binance-public-data/python/data/spot/monthly/trades/SUNUSDT/SUNUSDT-trades-2021-10.zip\n",
      "8.642505645751953 /workspace/projects/binance-public-data/python/data/spot/monthly/trades/SUNUSDT/SUNUSDT-trades-2021-11.zip\n",
      "8.642505645751953 /workspace/projects/binance-public-data/python/data/spot/monthly/trades/SUNUSDT/SUNUSDT-trades-2021-12.zip\n",
      "8.642505645751953 /workspace/projects/binance-public-data/python/data/spot/monthly/trades/SUNUSDT/SUNUSDT-trades-2022-01.zip\n",
      "8.642505645751953 /workspace/projects/binance-public-data/python/data/spot/monthly/trades/SUNUSDT/SUNUSDT-trades-2022-02.zip\n",
      "8.642505645751953 /workspace/projects/binance-public-data/python/data/spot/monthly/trades/SUNUSDT/SUNUSDT-trades-2022-03.zip\n",
      "8.642505645751953 /workspace/projects/binance-public-data/python/data/spot/monthly/trades/SUNUSDT/SUNUSDT-trades-2022-04.zip\n",
      "8.642505645751953 /workspace/projects/binance-public-data/python/data/spot/monthly/trades/SUNUSDT/SUNUSDT-trades-2022-05.zip\n",
      "8.642505645751953 /workspace/projects/binance-public-data/python/data/spot/monthly/trades/SUNUSDT/SUNUSDT-trades-2022-06.zip\n",
      "8.642505645751953 /workspace/projects/binance-public-data/python/data/spot/monthly/trades/SUNUSDT/SUNUSDT-trades-2022-07.zip\n",
      "8.642505645751953 /workspace/projects/binance-public-data/python/data/spot/monthly/trades/SUNUSDT/SUNUSDT-trades-2022-08.zip\n",
      "8.642505645751953 /workspace/projects/binance-public-data/python/data/spot/monthly/trades/SUNUSDT/SUNUSDT-trades-2022-09.zip\n",
      "8.642505645751953 /workspace/projects/binance-public-data/python/data/spot/monthly/trades/SUNUSDT/SUNUSDT-trades-2022-10.zip\n",
      "8.642505645751953 /workspace/projects/binance-public-data/python/data/spot/monthly/trades/SUNUSDT/SUNUSDT-trades-2022-11.zip\n",
      "8.642505645751953 /workspace/projects/binance-public-data/python/data/spot/monthly/trades/SUNUSDT/SUNUSDT-trades-2022-12.zip\n",
      "8.642505645751953 /workspace/projects/binance-public-data/python/data/spot/monthly/trades/SUNUSDT/SUNUSDT-trades-2023-01.zip\n",
      "8.642505645751953 /workspace/projects/binance-public-data/python/data/spot/monthly/trades/SUNUSDT/SUNUSDT-trades-2023-02.zip\n",
      "8.642505645751953 /workspace/projects/binance-public-data/python/data/spot/monthly/trades/SUNUSDT/SUNUSDT-trades-2023-03.zip\n",
      "8.642505645751953 /workspace/projects/binance-public-data/python/data/spot/monthly/trades/SUNUSDT/SUNUSDT-trades-2023-04.zip\n",
      "8.642505645751953 /workspace/projects/binance-public-data/python/data/spot/monthly/trades/SUNUSDT/SUNUSDT-trades-2023-05.zip\n",
      "8.642505645751953 /workspace/projects/binance-public-data/python/data/spot/monthly/trades/SUNUSDT/SUNUSDT-trades-2023-06.zip\n",
      "8.642505645751953 /workspace/projects/binance-public-data/python/data/spot/monthly/trades/SUNUSDT/SUNUSDT-trades-2023-07.zip\n",
      "8.642505645751953 /workspace/projects/binance-public-data/python/data/spot/monthly/trades/SUNUSDT/SUNUSDT-trades-2023-08.zip\n",
      "8.642505645751953 /workspace/projects/binance-public-data/python/data/spot/monthly/trades/SUNUSDT/SUNUSDT-trades-2023-09.zip\n",
      "8.642505645751953 /workspace/projects/binance-public-data/python/data/spot/monthly/trades/SUNUSDT/SUNUSDT-trades-2023-10.zip\n",
      "8.642505645751953 /workspace/projects/binance-public-data/python/data/spot/monthly/trades/SUNUSDT/SUNUSDT-trades-2023-11.zip\n",
      "8.642505645751953 /workspace/projects/binance-public-data/python/data/spot/monthly/trades/SUNUSDT/SUNUSDT-trades-2023-12.zip\n",
      "8.642505645751953 /workspace/projects/binance-public-data/python/data/spot/monthly/trades/SUNUSDT/SUNUSDT-trades-2024-01.zip\n",
      "8.642505645751953 /workspace/projects/binance-public-data/python/data/spot/monthly/trades/SUNUSDT/SUNUSDT-trades-2024-02.zip\n",
      "8.642505645751953 /workspace/projects/binance-public-data/python/data/spot/monthly/trades/SUNUSDT/SUNUSDT-trades-2024-03.zip\n",
      "8.642505645751953 /workspace/projects/binance-public-data/python/data/spot/monthly/trades/SUNUSDT/SUNUSDT-trades-2024-04.zip\n",
      "8.642505645751953 /workspace/projects/binance-public-data/python/data/spot/monthly/trades/SUNUSDT/SUNUSDT-trades-2024-05.zip\n",
      "8.642505645751953 /workspace/projects/binance-public-data/python/data/spot/monthly/trades/SUNUSDT/SUNUSDT-trades-2024-06.zip\n",
      "8.642505645751953 /workspace/projects/binance-public-data/python/data/spot/monthly/trades/SUNUSDT/SUNUSDT-trades-2024-07.zip\n",
      "8.72482681274414 /workspace/projects/binance-public-data/python/data/spot/monthly/trades/SUNUSDT/SUNUSDT-trades-2024-08.zip\n"
     ]
    },
    {
     "name": "stderr",
     "output_type": "stream",
     "text": [
      "  4%|▎         | 1/28 [00:19<08:33, 19.02s/it]"
     ]
    },
    {
     "name": "stdout",
     "output_type": "stream",
     "text": [
      "10.076522827148438 /workspace/projects/binance-public-data/python/data/spot/monthly/trades/BNBUSDT/BNBUSDT-trades-2017-11.zip\n",
      "10.076522827148438 /workspace/projects/binance-public-data/python/data/spot/monthly/trades/BNBUSDT/BNBUSDT-trades-2017-12.zip\n",
      "10.076522827148438 /workspace/projects/binance-public-data/python/data/spot/monthly/trades/BNBUSDT/BNBUSDT-trades-2018-01.zip\n",
      "10.076522827148438 /workspace/projects/binance-public-data/python/data/spot/monthly/trades/BNBUSDT/BNBUSDT-trades-2018-02.zip\n",
      "10.076522827148438 /workspace/projects/binance-public-data/python/data/spot/monthly/trades/BNBUSDT/BNBUSDT-trades-2018-03.zip\n",
      "10.076522827148438 /workspace/projects/binance-public-data/python/data/spot/monthly/trades/BNBUSDT/BNBUSDT-trades-2018-04.zip\n",
      "10.076522827148438 /workspace/projects/binance-public-data/python/data/spot/monthly/trades/BNBUSDT/BNBUSDT-trades-2018-05.zip\n",
      "10.076522827148438 /workspace/projects/binance-public-data/python/data/spot/monthly/trades/BNBUSDT/BNBUSDT-trades-2018-06.zip\n",
      "10.076522827148438 /workspace/projects/binance-public-data/python/data/spot/monthly/trades/BNBUSDT/BNBUSDT-trades-2018-07.zip\n",
      "10.076522827148438 /workspace/projects/binance-public-data/python/data/spot/monthly/trades/BNBUSDT/BNBUSDT-trades-2018-08.zip\n",
      "10.076522827148438 /workspace/projects/binance-public-data/python/data/spot/monthly/trades/BNBUSDT/BNBUSDT-trades-2018-09.zip\n",
      "10.076522827148438 /workspace/projects/binance-public-data/python/data/spot/monthly/trades/BNBUSDT/BNBUSDT-trades-2018-10.zip\n",
      "10.076522827148438 /workspace/projects/binance-public-data/python/data/spot/monthly/trades/BNBUSDT/BNBUSDT-trades-2018-11.zip\n",
      "10.076522827148438 /workspace/projects/binance-public-data/python/data/spot/monthly/trades/BNBUSDT/BNBUSDT-trades-2018-12.zip\n",
      "10.076522827148438 /workspace/projects/binance-public-data/python/data/spot/monthly/trades/BNBUSDT/BNBUSDT-trades-2019-01.zip\n",
      "10.076522827148438 /workspace/projects/binance-public-data/python/data/spot/monthly/trades/BNBUSDT/BNBUSDT-trades-2019-02.zip\n",
      "10.076522827148438 /workspace/projects/binance-public-data/python/data/spot/monthly/trades/BNBUSDT/BNBUSDT-trades-2019-03.zip\n",
      "10.076522827148438 /workspace/projects/binance-public-data/python/data/spot/monthly/trades/BNBUSDT/BNBUSDT-trades-2019-04.zip\n",
      "10.076522827148438 /workspace/projects/binance-public-data/python/data/spot/monthly/trades/BNBUSDT/BNBUSDT-trades-2019-05.zip\n",
      "10.076522827148438 /workspace/projects/binance-public-data/python/data/spot/monthly/trades/BNBUSDT/BNBUSDT-trades-2019-06.zip\n",
      "10.150638580322266 /workspace/projects/binance-public-data/python/data/spot/monthly/trades/BNBUSDT/BNBUSDT-trades-2019-07.zip\n",
      "10.150638580322266 /workspace/projects/binance-public-data/python/data/spot/monthly/trades/BNBUSDT/BNBUSDT-trades-2019-08.zip\n",
      "10.150638580322266 /workspace/projects/binance-public-data/python/data/spot/monthly/trades/BNBUSDT/BNBUSDT-trades-2019-09.zip\n",
      "10.178226470947266 /workspace/projects/binance-public-data/python/data/spot/monthly/trades/BNBUSDT/BNBUSDT-trades-2019-10.zip\n",
      "10.239818572998047 /workspace/projects/binance-public-data/python/data/spot/monthly/trades/BNBUSDT/BNBUSDT-trades-2019-11.zip\n",
      "10.239818572998047 /workspace/projects/binance-public-data/python/data/spot/monthly/trades/BNBUSDT/BNBUSDT-trades-2019-12.zip\n",
      "10.31204605102539 /workspace/projects/binance-public-data/python/data/spot/monthly/trades/BNBUSDT/BNBUSDT-trades-2020-01.zip\n",
      "10.446109771728516 /workspace/projects/binance-public-data/python/data/spot/monthly/trades/BNBUSDT/BNBUSDT-trades-2020-02.zip\n",
      "10.64208984375 /workspace/projects/binance-public-data/python/data/spot/monthly/trades/BNBUSDT/BNBUSDT-trades-2020-03.zip\n",
      "10.748062133789062 /workspace/projects/binance-public-data/python/data/spot/monthly/trades/BNBUSDT/BNBUSDT-trades-2020-04.zip\n",
      "10.85134506225586 /workspace/projects/binance-public-data/python/data/spot/monthly/trades/BNBUSDT/BNBUSDT-trades-2020-05.zip\n",
      "11.023445129394531 /workspace/projects/binance-public-data/python/data/spot/monthly/trades/BNBUSDT/BNBUSDT-trades-2020-06.zip\n",
      "11.176746368408203 /workspace/projects/binance-public-data/python/data/spot/monthly/trades/BNBUSDT/BNBUSDT-trades-2020-07.zip\n",
      "11.413009643554688 /workspace/projects/binance-public-data/python/data/spot/monthly/trades/BNBUSDT/BNBUSDT-trades-2020-08.zip\n",
      "11.73745346069336 /workspace/projects/binance-public-data/python/data/spot/monthly/trades/BNBUSDT/BNBUSDT-trades-2020-09.zip\n",
      "11.964813232421875 /workspace/projects/binance-public-data/python/data/spot/monthly/trades/BNBUSDT/BNBUSDT-trades-2020-10.zip\n",
      "12.206489562988281 /workspace/projects/binance-public-data/python/data/spot/monthly/trades/BNBUSDT/BNBUSDT-trades-2020-11.zip\n",
      "12.500465393066406 /workspace/projects/binance-public-data/python/data/spot/monthly/trades/BNBUSDT/BNBUSDT-trades-2020-12.zip\n",
      "13.201335906982422 /workspace/projects/binance-public-data/python/data/spot/monthly/trades/BNBUSDT/BNBUSDT-trades-2021-01.zip\n",
      "16.29961395263672 /workspace/projects/binance-public-data/python/data/spot/monthly/trades/BNBUSDT/BNBUSDT-trades-2021-02.zip\n",
      "17.476760864257812 /workspace/projects/binance-public-data/python/data/spot/monthly/trades/BNBUSDT/BNBUSDT-trades-2021-03.zip\n",
      "20.59720230102539 /workspace/projects/binance-public-data/python/data/spot/monthly/trades/BNBUSDT/BNBUSDT-trades-2021-04.zip\n",
      "22.852371215820312 /workspace/projects/binance-public-data/python/data/spot/monthly/trades/BNBUSDT/BNBUSDT-trades-2021-05.zip\n",
      "24.115283966064453 /workspace/projects/binance-public-data/python/data/spot/monthly/trades/BNBUSDT/BNBUSDT-trades-2021-06.zip\n",
      "24.90970230102539 /workspace/projects/binance-public-data/python/data/spot/monthly/trades/BNBUSDT/BNBUSDT-trades-2021-07.zip\n",
      "25.98819351196289 /workspace/projects/binance-public-data/python/data/spot/monthly/trades/BNBUSDT/BNBUSDT-trades-2021-08.zip\n",
      "26.729084014892578 /workspace/projects/binance-public-data/python/data/spot/monthly/trades/BNBUSDT/BNBUSDT-trades-2021-09.zip\n",
      "27.614498138427734 /workspace/projects/binance-public-data/python/data/spot/monthly/trades/BNBUSDT/BNBUSDT-trades-2021-10.zip\n",
      "28.778854370117188 /workspace/projects/binance-public-data/python/data/spot/monthly/trades/BNBUSDT/BNBUSDT-trades-2021-11.zip\n",
      "29.545345306396484 /workspace/projects/binance-public-data/python/data/spot/monthly/trades/BNBUSDT/BNBUSDT-trades-2021-12.zip\n",
      "30.154090881347656 /workspace/projects/binance-public-data/python/data/spot/monthly/trades/BNBUSDT/BNBUSDT-trades-2022-01.zip\n",
      "30.322547912597656 /workspace/projects/binance-public-data/python/data/spot/monthly/trades/BNBUSDT/BNBUSDT-trades-2022-02.zip\n",
      "30.476951599121094 /workspace/projects/binance-public-data/python/data/spot/monthly/trades/BNBUSDT/BNBUSDT-trades-2022-03.zip\n",
      "30.617088317871094 /workspace/projects/binance-public-data/python/data/spot/monthly/trades/BNBUSDT/BNBUSDT-trades-2022-04.zip\n",
      "31.14365005493164 /workspace/projects/binance-public-data/python/data/spot/monthly/trades/BNBUSDT/BNBUSDT-trades-2022-05.zip\n",
      "31.51059341430664 /workspace/projects/binance-public-data/python/data/spot/monthly/trades/BNBUSDT/BNBUSDT-trades-2022-06.zip\n",
      "31.626575469970703 /workspace/projects/binance-public-data/python/data/spot/monthly/trades/BNBUSDT/BNBUSDT-trades-2022-07.zip\n",
      "31.93415069580078 /workspace/projects/binance-public-data/python/data/spot/monthly/trades/BNBUSDT/BNBUSDT-trades-2022-08.zip\n",
      "32.155364990234375 /workspace/projects/binance-public-data/python/data/spot/monthly/trades/BNBUSDT/BNBUSDT-trades-2022-09.zip\n",
      "32.362548828125 /workspace/projects/binance-public-data/python/data/spot/monthly/trades/BNBUSDT/BNBUSDT-trades-2022-10.zip\n",
      "32.856143951416016 /workspace/projects/binance-public-data/python/data/spot/monthly/trades/BNBUSDT/BNBUSDT-trades-2022-11.zip\n",
      "33.07391357421875 /workspace/projects/binance-public-data/python/data/spot/monthly/trades/BNBUSDT/BNBUSDT-trades-2022-12.zip\n",
      "33.354644775390625 /workspace/projects/binance-public-data/python/data/spot/monthly/trades/BNBUSDT/BNBUSDT-trades-2023-01.zip\n",
      "33.63283920288086 /workspace/projects/binance-public-data/python/data/spot/monthly/trades/BNBUSDT/BNBUSDT-trades-2023-02.zip\n",
      "33.98298263549805 /workspace/projects/binance-public-data/python/data/spot/monthly/trades/BNBUSDT/BNBUSDT-trades-2023-03.zip\n",
      "34.28361892700195 /workspace/projects/binance-public-data/python/data/spot/monthly/trades/BNBUSDT/BNBUSDT-trades-2023-04.zip\n",
      "34.50531005859375 /workspace/projects/binance-public-data/python/data/spot/monthly/trades/BNBUSDT/BNBUSDT-trades-2023-05.zip\n",
      "34.79774856567383 /workspace/projects/binance-public-data/python/data/spot/monthly/trades/BNBUSDT/BNBUSDT-trades-2023-06.zip\n",
      "35.020938873291016 /workspace/projects/binance-public-data/python/data/spot/monthly/trades/BNBUSDT/BNBUSDT-trades-2023-07.zip\n",
      "35.08605194091797 /workspace/projects/binance-public-data/python/data/spot/monthly/trades/BNBUSDT/BNBUSDT-trades-2023-08.zip\n",
      "35.13243865966797 /workspace/projects/binance-public-data/python/data/spot/monthly/trades/BNBUSDT/BNBUSDT-trades-2023-09.zip\n",
      "35.306427001953125 /workspace/projects/binance-public-data/python/data/spot/monthly/trades/BNBUSDT/BNBUSDT-trades-2023-10.zip\n",
      "35.64067077636719 /workspace/projects/binance-public-data/python/data/spot/monthly/trades/BNBUSDT/BNBUSDT-trades-2023-11.zip\n",
      "36.05086898803711 /workspace/projects/binance-public-data/python/data/spot/monthly/trades/BNBUSDT/BNBUSDT-trades-2023-12.zip\n",
      "36.38669967651367 /workspace/projects/binance-public-data/python/data/spot/monthly/trades/BNBUSDT/BNBUSDT-trades-2024-01.zip\n",
      "36.69138717651367 /workspace/projects/binance-public-data/python/data/spot/monthly/trades/BNBUSDT/BNBUSDT-trades-2024-02.zip\n",
      "37.93030548095703 /workspace/projects/binance-public-data/python/data/spot/monthly/trades/BNBUSDT/BNBUSDT-trades-2024-03.zip\n",
      "38.45915603637695 /workspace/projects/binance-public-data/python/data/spot/monthly/trades/BNBUSDT/BNBUSDT-trades-2024-04.zip\n",
      "38.775726318359375 /workspace/projects/binance-public-data/python/data/spot/monthly/trades/BNBUSDT/BNBUSDT-trades-2024-05.zip\n",
      "39.16267776489258 /workspace/projects/binance-public-data/python/data/spot/monthly/trades/BNBUSDT/BNBUSDT-trades-2024-06.zip\n",
      "39.576171875 /workspace/projects/binance-public-data/python/data/spot/monthly/trades/BNBUSDT/BNBUSDT-trades-2024-07.zip\n",
      "40.13824462890625 /workspace/projects/binance-public-data/python/data/spot/monthly/trades/BNBUSDT/BNBUSDT-trades-2024-08.zip\n"
     ]
    },
    {
     "name": "stderr",
     "output_type": "stream",
     "text": [
      "  7%|▋         | 2/28 [07:00<1:45:50, 244.26s/it]"
     ]
    },
    {
     "name": "stdout",
     "output_type": "stream",
     "text": [
      "44.550113677978516 /workspace/projects/binance-public-data/python/data/spot/monthly/trades/RAREUSDT/RAREUSDT-trades-2021-10.zip\n",
      "44.550113677978516 /workspace/projects/binance-public-data/python/data/spot/monthly/trades/RAREUSDT/RAREUSDT-trades-2021-11.zip\n",
      "44.550113677978516 /workspace/projects/binance-public-data/python/data/spot/monthly/trades/RAREUSDT/RAREUSDT-trades-2021-12.zip\n",
      "44.550113677978516 /workspace/projects/binance-public-data/python/data/spot/monthly/trades/RAREUSDT/RAREUSDT-trades-2022-01.zip\n",
      "44.550113677978516 /workspace/projects/binance-public-data/python/data/spot/monthly/trades/RAREUSDT/RAREUSDT-trades-2022-02.zip\n",
      "44.550113677978516 /workspace/projects/binance-public-data/python/data/spot/monthly/trades/RAREUSDT/RAREUSDT-trades-2022-03.zip\n",
      "44.550113677978516 /workspace/projects/binance-public-data/python/data/spot/monthly/trades/RAREUSDT/RAREUSDT-trades-2022-04.zip\n",
      "44.550113677978516 /workspace/projects/binance-public-data/python/data/spot/monthly/trades/RAREUSDT/RAREUSDT-trades-2022-05.zip\n",
      "44.550113677978516 /workspace/projects/binance-public-data/python/data/spot/monthly/trades/RAREUSDT/RAREUSDT-trades-2022-06.zip\n",
      "44.550113677978516 /workspace/projects/binance-public-data/python/data/spot/monthly/trades/RAREUSDT/RAREUSDT-trades-2022-07.zip\n",
      "44.550113677978516 /workspace/projects/binance-public-data/python/data/spot/monthly/trades/RAREUSDT/RAREUSDT-trades-2022-08.zip\n",
      "44.550113677978516 /workspace/projects/binance-public-data/python/data/spot/monthly/trades/RAREUSDT/RAREUSDT-trades-2022-09.zip\n",
      "44.550113677978516 /workspace/projects/binance-public-data/python/data/spot/monthly/trades/RAREUSDT/RAREUSDT-trades-2022-10.zip\n",
      "44.550113677978516 /workspace/projects/binance-public-data/python/data/spot/monthly/trades/RAREUSDT/RAREUSDT-trades-2022-11.zip\n",
      "44.550113677978516 /workspace/projects/binance-public-data/python/data/spot/monthly/trades/RAREUSDT/RAREUSDT-trades-2022-12.zip\n",
      "44.550113677978516 /workspace/projects/binance-public-data/python/data/spot/monthly/trades/RAREUSDT/RAREUSDT-trades-2023-01.zip\n",
      "44.550113677978516 /workspace/projects/binance-public-data/python/data/spot/monthly/trades/RAREUSDT/RAREUSDT-trades-2023-02.zip\n",
      "44.550113677978516 /workspace/projects/binance-public-data/python/data/spot/monthly/trades/RAREUSDT/RAREUSDT-trades-2023-03.zip\n",
      "44.550113677978516 /workspace/projects/binance-public-data/python/data/spot/monthly/trades/RAREUSDT/RAREUSDT-trades-2023-04.zip\n",
      "44.550113677978516 /workspace/projects/binance-public-data/python/data/spot/monthly/trades/RAREUSDT/RAREUSDT-trades-2023-05.zip\n",
      "44.550113677978516 /workspace/projects/binance-public-data/python/data/spot/monthly/trades/RAREUSDT/RAREUSDT-trades-2023-06.zip\n",
      "44.550113677978516 /workspace/projects/binance-public-data/python/data/spot/monthly/trades/RAREUSDT/RAREUSDT-trades-2023-07.zip\n",
      "44.550113677978516 /workspace/projects/binance-public-data/python/data/spot/monthly/trades/RAREUSDT/RAREUSDT-trades-2023-08.zip\n",
      "44.550113677978516 /workspace/projects/binance-public-data/python/data/spot/monthly/trades/RAREUSDT/RAREUSDT-trades-2023-09.zip\n",
      "44.550113677978516 /workspace/projects/binance-public-data/python/data/spot/monthly/trades/RAREUSDT/RAREUSDT-trades-2023-10.zip\n",
      "44.550113677978516 /workspace/projects/binance-public-data/python/data/spot/monthly/trades/RAREUSDT/RAREUSDT-trades-2023-11.zip\n",
      "44.550113677978516 /workspace/projects/binance-public-data/python/data/spot/monthly/trades/RAREUSDT/RAREUSDT-trades-2023-12.zip\n",
      "44.550113677978516 /workspace/projects/binance-public-data/python/data/spot/monthly/trades/RAREUSDT/RAREUSDT-trades-2024-01.zip\n",
      "44.550113677978516 /workspace/projects/binance-public-data/python/data/spot/monthly/trades/RAREUSDT/RAREUSDT-trades-2024-02.zip\n",
      "44.550113677978516 /workspace/projects/binance-public-data/python/data/spot/monthly/trades/RAREUSDT/RAREUSDT-trades-2024-03.zip\n",
      "44.550113677978516 /workspace/projects/binance-public-data/python/data/spot/monthly/trades/RAREUSDT/RAREUSDT-trades-2024-04.zip\n",
      "44.550113677978516 /workspace/projects/binance-public-data/python/data/spot/monthly/trades/RAREUSDT/RAREUSDT-trades-2024-05.zip\n",
      "44.550113677978516 /workspace/projects/binance-public-data/python/data/spot/monthly/trades/RAREUSDT/RAREUSDT-trades-2024-06.zip\n",
      "44.550113677978516 /workspace/projects/binance-public-data/python/data/spot/monthly/trades/RAREUSDT/RAREUSDT-trades-2024-07.zip\n"
     ]
    },
    {
     "name": "stderr",
     "output_type": "stream",
     "text": [
      "  7%|▋         | 2/28 [07:15<1:34:19, 217.66s/it]\n"
     ]
    },
    {
     "ename": "ParserError",
     "evalue": "Error tokenizing data. C error: Calling read(nbytes) on source failed. Try engine='python'.",
     "output_type": "error",
     "traceback": [
      "\u001b[0;31m---------------------------------------------------------------------------\u001b[0m",
      "\u001b[0;31mParserError\u001b[0m                               Traceback (most recent call last)",
      "Cell \u001b[0;32mIn[82], line 1\u001b[0m\n\u001b[0;32m----> 1\u001b[0m trade_data \u001b[38;5;241m=\u001b[39m \u001b[43mread_data\u001b[49m\u001b[43m(\u001b[49m\u001b[43mdata_dir\u001b[49m\u001b[43m,\u001b[49m\u001b[43m \u001b[49m\u001b[38;5;124;43m\"\u001b[39;49m\u001b[38;5;124;43mtrades\u001b[39;49m\u001b[38;5;124;43m\"\u001b[39;49m\u001b[43m,\u001b[49m\u001b[43m \u001b[49m\u001b[43mheader\u001b[49m\u001b[43m \u001b[49m\u001b[38;5;241;43m=\u001b[39;49m\u001b[43m \u001b[49m\u001b[43mTRADE_HEADERS\u001b[49m\u001b[43m)\u001b[49m\n",
      "Cell \u001b[0;32mIn[81], line 58\u001b[0m, in \u001b[0;36mread_data\u001b[0;34m(data_dir, target, header)\u001b[0m\n\u001b[1;32m     56\u001b[0m temp_holder \u001b[38;5;241m=\u001b[39m []\n\u001b[1;32m     57\u001b[0m \u001b[38;5;28;01mfor\u001b[39;00m zip_file \u001b[38;5;129;01min\u001b[39;00m (month_dir \u001b[38;5;241m/\u001b[39m pair)\u001b[38;5;241m.\u001b[39mglob(\u001b[38;5;124m\"\u001b[39m\u001b[38;5;124m**/*.zip\u001b[39m\u001b[38;5;124m\"\u001b[39m):\n\u001b[0;32m---> 58\u001b[0m     temp_holder\u001b[38;5;241m.\u001b[39mappend(\u001b[43mpd\u001b[49m\u001b[38;5;241;43m.\u001b[39;49m\u001b[43mread_csv\u001b[49m\u001b[43m(\u001b[49m\u001b[43mzip_file\u001b[49m\u001b[43m,\u001b[49m\u001b[43m \u001b[49m\u001b[43mheader\u001b[49m\u001b[38;5;241;43m=\u001b[39;49m\u001b[38;5;28;43;01mNone\u001b[39;49;00m\u001b[43m)\u001b[49m)\n\u001b[1;32m     59\u001b[0m     \u001b[38;5;66;03m#gc.collect()\u001b[39;00m\n\u001b[1;32m     60\u001b[0m     \u001b[38;5;28mprint\u001b[39m(memory_usage(), zip_file)\n",
      "File \u001b[0;32m~/miniconda3/envs/crypto_trading/lib/python3.9/site-packages/pandas/io/parsers/readers.py:1026\u001b[0m, in \u001b[0;36mread_csv\u001b[0;34m(filepath_or_buffer, sep, delimiter, header, names, index_col, usecols, dtype, engine, converters, true_values, false_values, skipinitialspace, skiprows, skipfooter, nrows, na_values, keep_default_na, na_filter, verbose, skip_blank_lines, parse_dates, infer_datetime_format, keep_date_col, date_parser, date_format, dayfirst, cache_dates, iterator, chunksize, compression, thousands, decimal, lineterminator, quotechar, quoting, doublequote, escapechar, comment, encoding, encoding_errors, dialect, on_bad_lines, delim_whitespace, low_memory, memory_map, float_precision, storage_options, dtype_backend)\u001b[0m\n\u001b[1;32m   1013\u001b[0m kwds_defaults \u001b[38;5;241m=\u001b[39m _refine_defaults_read(\n\u001b[1;32m   1014\u001b[0m     dialect,\n\u001b[1;32m   1015\u001b[0m     delimiter,\n\u001b[0;32m   (...)\u001b[0m\n\u001b[1;32m   1022\u001b[0m     dtype_backend\u001b[38;5;241m=\u001b[39mdtype_backend,\n\u001b[1;32m   1023\u001b[0m )\n\u001b[1;32m   1024\u001b[0m kwds\u001b[38;5;241m.\u001b[39mupdate(kwds_defaults)\n\u001b[0;32m-> 1026\u001b[0m \u001b[38;5;28;01mreturn\u001b[39;00m \u001b[43m_read\u001b[49m\u001b[43m(\u001b[49m\u001b[43mfilepath_or_buffer\u001b[49m\u001b[43m,\u001b[49m\u001b[43m \u001b[49m\u001b[43mkwds\u001b[49m\u001b[43m)\u001b[49m\n",
      "File \u001b[0;32m~/miniconda3/envs/crypto_trading/lib/python3.9/site-packages/pandas/io/parsers/readers.py:626\u001b[0m, in \u001b[0;36m_read\u001b[0;34m(filepath_or_buffer, kwds)\u001b[0m\n\u001b[1;32m    623\u001b[0m     \u001b[38;5;28;01mreturn\u001b[39;00m parser\n\u001b[1;32m    625\u001b[0m \u001b[38;5;28;01mwith\u001b[39;00m parser:\n\u001b[0;32m--> 626\u001b[0m     \u001b[38;5;28;01mreturn\u001b[39;00m \u001b[43mparser\u001b[49m\u001b[38;5;241;43m.\u001b[39;49m\u001b[43mread\u001b[49m\u001b[43m(\u001b[49m\u001b[43mnrows\u001b[49m\u001b[43m)\u001b[49m\n",
      "File \u001b[0;32m~/miniconda3/envs/crypto_trading/lib/python3.9/site-packages/pandas/io/parsers/readers.py:1923\u001b[0m, in \u001b[0;36mTextFileReader.read\u001b[0;34m(self, nrows)\u001b[0m\n\u001b[1;32m   1916\u001b[0m nrows \u001b[38;5;241m=\u001b[39m validate_integer(\u001b[38;5;124m\"\u001b[39m\u001b[38;5;124mnrows\u001b[39m\u001b[38;5;124m\"\u001b[39m, nrows)\n\u001b[1;32m   1917\u001b[0m \u001b[38;5;28;01mtry\u001b[39;00m:\n\u001b[1;32m   1918\u001b[0m     \u001b[38;5;66;03m# error: \"ParserBase\" has no attribute \"read\"\u001b[39;00m\n\u001b[1;32m   1919\u001b[0m     (\n\u001b[1;32m   1920\u001b[0m         index,\n\u001b[1;32m   1921\u001b[0m         columns,\n\u001b[1;32m   1922\u001b[0m         col_dict,\n\u001b[0;32m-> 1923\u001b[0m     ) \u001b[38;5;241m=\u001b[39m \u001b[38;5;28;43mself\u001b[39;49m\u001b[38;5;241;43m.\u001b[39;49m\u001b[43m_engine\u001b[49m\u001b[38;5;241;43m.\u001b[39;49m\u001b[43mread\u001b[49m\u001b[43m(\u001b[49m\u001b[43m  \u001b[49m\u001b[38;5;66;43;03m# type: ignore[attr-defined]\u001b[39;49;00m\n\u001b[1;32m   1924\u001b[0m \u001b[43m        \u001b[49m\u001b[43mnrows\u001b[49m\n\u001b[1;32m   1925\u001b[0m \u001b[43m    \u001b[49m\u001b[43m)\u001b[49m\n\u001b[1;32m   1926\u001b[0m \u001b[38;5;28;01mexcept\u001b[39;00m \u001b[38;5;167;01mException\u001b[39;00m:\n\u001b[1;32m   1927\u001b[0m     \u001b[38;5;28mself\u001b[39m\u001b[38;5;241m.\u001b[39mclose()\n",
      "File \u001b[0;32m~/miniconda3/envs/crypto_trading/lib/python3.9/site-packages/pandas/io/parsers/c_parser_wrapper.py:234\u001b[0m, in \u001b[0;36mCParserWrapper.read\u001b[0;34m(self, nrows)\u001b[0m\n\u001b[1;32m    232\u001b[0m \u001b[38;5;28;01mtry\u001b[39;00m:\n\u001b[1;32m    233\u001b[0m     \u001b[38;5;28;01mif\u001b[39;00m \u001b[38;5;28mself\u001b[39m\u001b[38;5;241m.\u001b[39mlow_memory:\n\u001b[0;32m--> 234\u001b[0m         chunks \u001b[38;5;241m=\u001b[39m \u001b[38;5;28;43mself\u001b[39;49m\u001b[38;5;241;43m.\u001b[39;49m\u001b[43m_reader\u001b[49m\u001b[38;5;241;43m.\u001b[39;49m\u001b[43mread_low_memory\u001b[49m\u001b[43m(\u001b[49m\u001b[43mnrows\u001b[49m\u001b[43m)\u001b[49m\n\u001b[1;32m    235\u001b[0m         \u001b[38;5;66;03m# destructive to chunks\u001b[39;00m\n\u001b[1;32m    236\u001b[0m         data \u001b[38;5;241m=\u001b[39m _concatenate_chunks(chunks)\n",
      "File \u001b[0;32mparsers.pyx:838\u001b[0m, in \u001b[0;36mpandas._libs.parsers.TextReader.read_low_memory\u001b[0;34m()\u001b[0m\n",
      "File \u001b[0;32mparsers.pyx:905\u001b[0m, in \u001b[0;36mpandas._libs.parsers.TextReader._read_rows\u001b[0;34m()\u001b[0m\n",
      "File \u001b[0;32mparsers.pyx:874\u001b[0m, in \u001b[0;36mpandas._libs.parsers.TextReader._tokenize_rows\u001b[0;34m()\u001b[0m\n",
      "File \u001b[0;32mparsers.pyx:891\u001b[0m, in \u001b[0;36mpandas._libs.parsers.TextReader._check_tokenize_status\u001b[0;34m()\u001b[0m\n",
      "File \u001b[0;32mparsers.pyx:2061\u001b[0m, in \u001b[0;36mpandas._libs.parsers.raise_parser_error\u001b[0;34m()\u001b[0m\n",
      "\u001b[0;31mParserError\u001b[0m: Error tokenizing data. C error: Calling read(nbytes) on source failed. Try engine='python'."
     ]
    }
   ],
   "source": [
    "trade_data = read_data(data_dir, \"trades\", header = TRADE_HEADERS)"
   ]
  },
  {
   "cell_type": "code",
   "execution_count": 18,
   "metadata": {},
   "outputs": [
    {
     "name": "stderr",
     "output_type": "stream",
     "text": [
      "  0%|          | 0/28 [00:00<?, ?it/s]"
     ]
    },
    {
     "name": "stdout",
     "output_type": "stream",
     "text": [
      "0.7282257080078125\n",
      "0.7411651611328125\n",
      "0.7550811767578125\n",
      "0.7758331298828125\n",
      "0.8158721923828125\n",
      "0.9335479736328125\n",
      "1.3092002868652344\n",
      "1.7023696899414062\n",
      "1.8342056274414062\n",
      "2.199108123779297\n",
      "2.457164764404297\n",
      "2.877758026123047\n",
      "3.297943115234375\n",
      "3.8250808715820312\n",
      "4.182415008544922\n",
      "4.460224151611328\n",
      "4.718029022216797\n",
      "4.905040740966797\n",
      "5.161388397216797\n",
      "5.294933319091797\n",
      "5.457530975341797\n",
      "5.542980194091797\n",
      "5.590343475341797\n",
      "5.610851287841797\n",
      "5.625988006591797\n",
      "5.871299743652344\n",
      "5.907676696777344\n",
      "5.927452087402344\n",
      "5.945762634277344\n",
      "5.978233337402344\n",
      "6.006553649902344\n",
      "6.022911071777344\n",
      "6.040489196777344\n",
      "6.051963806152344\n",
      "6.067100524902344\n",
      "6.076622009277344\n",
      "6.083213806152344\n",
      "6.097129821777344\n",
      "6.121299743652344\n",
      "6.198204040527344\n",
      "6.243370056152344\n",
      "6.369346618652344\n",
      "6.537403106689453\n",
      "6.589160919189453\n",
      "6.632862091064453\n",
      "6.671436309814453\n",
      "6.714893341064453\n",
      "7.847446441650391\n"
     ]
    },
    {
     "name": "stderr",
     "output_type": "stream",
     "text": [
      "  4%|▎         | 1/28 [00:27<12:35, 27.96s/it]"
     ]
    },
    {
     "name": "stdout",
     "output_type": "stream",
     "text": [
      "8.682598114013672\n",
      "8.784893035888672\n",
      "9.152812957763672\n",
      "9.618389129638672\n",
      "10.119205474853516\n",
      "10.594684600830078\n",
      "10.909381866455078\n",
      "11.279010772705078\n",
      "11.495807647705078\n",
      "11.635456085205078\n",
      "11.740680694580078\n",
      "11.811725616455078\n",
      "11.889118194580078\n",
      "12.038532257080078\n",
      "12.214313507080078\n",
      "12.562145233154297\n",
      "13.076072692871094\n",
      "13.551021575927734\n",
      "14.527626037597656\n",
      "15.21683120727539\n",
      "15.853996276855469\n",
      "16.244224548339844\n",
      "16.57294464111328\n",
      "16.94664764404297\n",
      "17.284088134765625\n",
      "17.559768676757812\n",
      "17.95340347290039\n",
      "18.683650970458984\n",
      "19.588314056396484\n",
      "20.334186553955078\n",
      "20.898639678955078\n",
      "21.291370391845703\n",
      "22.154449462890625\n",
      "23.327205657958984\n",
      "25.371742248535156\n",
      "26.235492706298828\n",
      "27.60406494140625\n",
      "29.379127502441406\n",
      "32.11770248413086\n",
      "42.733280181884766\n",
      "49.26029586791992\n",
      "62.739707946777344\n",
      "73.78775787353516\n",
      "80.79904174804688\n",
      "84.59790420532227\n",
      "90.8784065246582\n",
      "94.72976303100586\n",
      "99.5665512084961\n",
      "106.13178253173828\n",
      "110.11508560180664\n",
      "113.44094848632812\n",
      "115.74219512939453\n",
      "117.85037994384766\n",
      "119.76470184326172\n",
      "122.64155960083008\n",
      "124.13260650634766\n",
      "125.71688842773438\n",
      "127.39742279052734\n",
      "128.605712890625\n",
      "129.73766326904297\n",
      "132.43456649780273\n",
      "133.62428283691406\n",
      "135.15800857543945\n",
      "136.6778564453125\n",
      "138.59083557128906\n",
      "140.2331771850586\n",
      "141.44458389282227\n",
      "143.0424461364746\n",
      "144.2618179321289\n",
      "145.15122985839844\n",
      "145.78619003295898\n",
      "146.7367706298828\n",
      "148.56216430664062\n",
      "150.8032341003418\n",
      "152.62826538085938\n",
      "154.28997039794922\n"
     ]
    },
    {
     "ename": "",
     "evalue": "",
     "output_type": "error",
     "traceback": [
      "\u001b[1;31mThe Kernel crashed while executing code in the current cell or a previous cell. \n",
      "\u001b[1;31mPlease review the code in the cell(s) to identify a possible cause of the failure. \n",
      "\u001b[1;31mClick <a href='https://aka.ms/vscodeJupyterKernelCrash'>here</a> for more info. \n",
      "\u001b[1;31mView Jupyter <a href='command:jupyter.viewOutput'>log</a> for further details."
     ]
    }
   ],
   "source": [
    "trade_data = read_data(data_dir, \"trades\", header = TRADE_HEADERS)"
   ]
  },
  {
   "cell_type": "markdown",
   "metadata": {},
   "source": [
    "#### save data to paquet file"
   ]
  },
  {
   "cell_type": "code",
   "execution_count": 9,
   "metadata": {},
   "outputs": [
    {
     "data": {
      "text/plain": [
       "[8.682598114013672,\n",
       " 8.784893035888672,\n",
       " 9.152812957763672,\n",
       " 9.618389129638672,\n",
       " 10.119205474853516,\n",
       " 10.594684600830078,\n",
       " 10.909381866455078,\n",
       " 11.279010772705078,\n",
       " 11.495807647705078,\n",
       " 11.635456085205078,\n",
       " 11.740680694580078,\n",
       " 11.811725616455078,\n",
       " 11.889118194580078,\n",
       " 12.038532257080078,\n",
       " 12.214313507080078,\n",
       " 12.562145233154297,\n",
       " 13.076072692871094,\n",
       " 13.551021575927734,\n",
       " 14.527626037597656,\n",
       " 15.21683120727539,\n",
       " 15.853996276855469,\n",
       " 16.244224548339844,\n",
       " 16.57294464111328,\n",
       " 16.94664764404297,\n",
       " 17.284088134765625,\n",
       " 17.559768676757812,\n",
       " 17.95340347290039,\n",
       " 18.683650970458984,\n",
       " 19.588314056396484,\n",
       " 20.334186553955078,\n",
       " 20.898639678955078,\n",
       " 21.291370391845703,\n",
       " 22.154449462890625,\n",
       " 23.327205657958984,\n",
       " 25.371742248535156,\n",
       " 26.235492706298828,\n",
       " 27.60406494140625,\n",
       " 29.379127502441406,\n",
       " 32.11770248413086,\n",
       " 42.733280181884766,\n",
       " 49.26029586791992,\n",
       " 62.739707946777344,\n",
       " 73.78775787353516,\n",
       " 80.79904174804688,\n",
       " 84.59790420532227,\n",
       " 90.8784065246582,\n",
       " 94.72976303100586,\n",
       " 99.5665512084961,\n",
       " 106.13178253173828,\n",
       " 110.11508560180664,\n",
       " 113.44094848632812,\n",
       " 115.74219512939453,\n",
       " 117.85037994384766,\n",
       " 119.76470184326172,\n",
       " 122.64155960083008,\n",
       " 124.13260650634766,\n",
       " 125.71688842773438,\n",
       " 127.39742279052734,\n",
       " 128.605712890625,\n",
       " 129.73766326904297,\n",
       " 132.43456649780273,\n",
       " 133.62428283691406,\n",
       " 135.15800857543945,\n",
       " 136.6778564453125,\n",
       " 138.59083557128906,\n",
       " 140.2331771850586,\n",
       " 141.44458389282227,\n",
       " 143.0424461364746,\n",
       " 144.2618179321289,\n",
       " 145.15122985839844,\n",
       " 145.78619003295898,\n",
       " 146.7367706298828,\n",
       " 148.56216430664062,\n",
       " 150.8032341003418,\n",
       " 152.62826538085938,\n",
       " 154.28997039794922]"
      ]
     },
     "execution_count": 9,
     "metadata": {},
     "output_type": "execute_result"
    }
   ],
   "source": [
    "lst_float"
   ]
  },
  {
   "cell_type": "code",
   "execution_count": null,
   "metadata": {},
   "outputs": [],
   "source": []
  },
  {
   "cell_type": "code",
   "execution_count": 13,
   "metadata": {},
   "outputs": [
    {
     "data": {
      "text/plain": [
       "41"
      ]
     },
     "execution_count": 13,
     "metadata": {},
     "output_type": "execute_result"
    }
   ],
   "source": [
    "import numpy as np\n",
    "import pandas as pd\n",
    "lst_float = [float(i) for i in lst.splitlines()]\n",
    "tmp = pd.Series(lst_float).diff() \n",
    "tmp.idxmax()"
   ]
  },
  {
   "cell_type": "code",
   "execution_count": 1,
   "metadata": {},
   "outputs": [],
   "source": [
    "lst = \"\"\"8.682598114013672\n",
    "8.784893035888672\n",
    "9.152812957763672\n",
    "9.618389129638672\n",
    "10.119205474853516\n",
    "10.594684600830078\n",
    "10.909381866455078\n",
    "11.279010772705078\n",
    "11.495807647705078\n",
    "11.635456085205078\n",
    "11.740680694580078\n",
    "11.811725616455078\n",
    "11.889118194580078\n",
    "12.038532257080078\n",
    "12.214313507080078\n",
    "12.562145233154297\n",
    "13.076072692871094\n",
    "13.551021575927734\n",
    "14.527626037597656\n",
    "15.21683120727539\n",
    "15.853996276855469\n",
    "16.244224548339844\n",
    "16.57294464111328\n",
    "16.94664764404297\n",
    "17.284088134765625\n",
    "17.559768676757812\n",
    "17.95340347290039\n",
    "18.683650970458984\n",
    "19.588314056396484\n",
    "20.334186553955078\n",
    "20.898639678955078\n",
    "21.291370391845703\n",
    "22.154449462890625\n",
    "23.327205657958984\n",
    "25.371742248535156\n",
    "26.235492706298828\n",
    "27.60406494140625\n",
    "29.379127502441406\n",
    "32.11770248413086\n",
    "42.733280181884766\n",
    "49.26029586791992\n",
    "62.739707946777344\n",
    "73.78775787353516\n",
    "80.79904174804688\n",
    "84.59790420532227\n",
    "90.8784065246582\n",
    "94.72976303100586\n",
    "99.5665512084961\n",
    "106.13178253173828\n",
    "110.11508560180664\n",
    "113.44094848632812\n",
    "115.74219512939453\n",
    "117.85037994384766\n",
    "119.76470184326172\n",
    "122.64155960083008\n",
    "124.13260650634766\n",
    "125.71688842773438\n",
    "127.39742279052734\n",
    "128.605712890625\n",
    "129.73766326904297\n",
    "132.43456649780273\n",
    "133.62428283691406\n",
    "135.15800857543945\n",
    "136.6778564453125\n",
    "138.59083557128906\n",
    "140.2331771850586\n",
    "141.44458389282227\n",
    "143.0424461364746\n",
    "144.2618179321289\n",
    "145.15122985839844\n",
    "145.78619003295898\n",
    "146.7367706298828\n",
    "148.56216430664062\n",
    "150.8032341003418\n",
    "152.62826538085938\n",
    "154.28997039794922\n",
    "\"\"\""
   ]
  },
  {
   "cell_type": "code",
   "execution_count": null,
   "metadata": {},
   "outputs": [],
   "source": [
    "# save each kline pair-interval to a pache file\n",
    "new_save_dir = Path(\"/workspace/projects/binance-public-data/python/data/yingruiz_custom/klines\")\n",
    "for pair in data:\n",
    "    for interval in intervals:\n",
    "        df = pa.Table.from_pandas(data[pair][interval])\n",
    "        path = new_save_dir / f\"{pair}-{interval}-klines.parquet\"\n",
    "        pq.write_table(df, path)"
   ]
  },
  {
   "cell_type": "code",
   "execution_count": null,
   "metadata": {},
   "outputs": [],
   "source": [
    "# save each trade pair to a pache file\n",
    "new_save_dir = Path(\"/workspace/projects/binance-public-data/python/data/yingruiz_custom/klines\")\n",
    "for pair in trade_data:\n",
    "    df = pa.Table.from_pandas(trade_data[pair])\n",
    "    path = new_save_dir / f\"{pair}-trades.parquet\"\n",
    "    pq.write_table(df, path)"
   ]
  },
  {
   "cell_type": "code",
   "execution_count": null,
   "metadata": {},
   "outputs": [],
   "source": [
    "# save each AggTrade pair to a pache file\n",
    "new_save_dir = Path(\"/workspace/projects/binance-public-data/python/data/yingruiz_custom/klines\")\n",
    "for pair in agg_trade_data:\n",
    "    df = pa.Table.from_pandas(agg_trade_data[pair])\n",
    "    path = new_save_dir / f\"{pair}-agg_trades.parquet\"\n",
    "    pq.write_table(df, path)"
   ]
  },
  {
   "cell_type": "code",
   "execution_count": null,
   "metadata": {},
   "outputs": [],
   "source": [
    "agg_trade_data = read_data(data_dir, \"trades\", header = TRADE_HEADERS)"
   ]
  },
  {
   "cell_type": "code",
   "execution_count": 9,
   "metadata": {},
   "outputs": [],
   "source": [
    "intervals = list(data[\"SUNUSDT\"].keys())"
   ]
  },
  {
   "cell_type": "code",
   "execution_count": null,
   "metadata": {},
   "outputs": [],
   "source": [
    "def read_kline_and_save_to_arrow_file(data_dir, header):\n",
    "    month_dir = Path(data_dir) / f\"spot/monthly/klines\"\n",
    "    day_dir = Path(data_dir) / f\"spot/daily/klines\" \n",
    "    \n",
    "    "
   ]
  },
  {
   "cell_type": "code",
   "execution_count": 11,
   "metadata": {},
   "outputs": [],
   "source": [
    "month_dir = Path(data_dir) / f\"spot/monthly/klines\"\n",
    "day_dir = Path(data_dir) / f\"spot/daily/klines\" "
   ]
  },
  {
   "cell_type": "code",
   "execution_count": 23,
   "metadata": {},
   "outputs": [],
   "source": [
    "tmp = list(month_dir.glob(\"**/*.zip\"))[0]\n"
   ]
  },
  {
   "cell_type": "code",
   "execution_count": 24,
   "metadata": {},
   "outputs": [
    {
     "data": {
      "text/plain": [
       "PosixPath('/workspace/projects/binance-public-data/python/data/spot/monthly/klines/SUNUSDT/1m/SUNUSDT-1m-2020-09.zip')"
      ]
     },
     "execution_count": 24,
     "metadata": {},
     "output_type": "execute_result"
    }
   ],
   "source": [
    "tmp"
   ]
  },
  {
   "cell_type": "code",
   "execution_count": 25,
   "metadata": {},
   "outputs": [
    {
     "ename": "AttributeError",
     "evalue": "can't set attribute",
     "output_type": "error",
     "traceback": [
      "\u001b[0;31m---------------------------------------------------------------------------\u001b[0m",
      "\u001b[0;31mAttributeError\u001b[0m                            Traceback (most recent call last)",
      "Cell \u001b[0;32mIn[25], line 1\u001b[0m\n\u001b[0;32m----> 1\u001b[0m \u001b[43mtmp\u001b[49m\u001b[38;5;241;43m.\u001b[39;49m\u001b[43mstem\u001b[49m \u001b[38;5;241m=\u001b[39m \u001b[38;5;124m\"\u001b[39m\u001b[38;5;124mwww\u001b[39m\u001b[38;5;124m\"\u001b[39m\n",
      "\u001b[0;31mAttributeError\u001b[0m: can't set attribute"
     ]
    }
   ],
   "source": [
    "tmp.stem = \"www\""
   ]
  },
  {
   "cell_type": "code",
   "execution_count": 28,
   "metadata": {},
   "outputs": [],
   "source": [
    "for path in list(month_dir.glob(\"**/*.zip\")):\n",
    "    df = pd.read_csv(path, header = None)\n",
    "    df.columns = header\n",
    "    df_table = pa.Table.from_pandas(df)\n",
    "    new_path = path.parent / f\"{path.stem}.parquet\"\n",
    "    pq.write_table(df_table, new_path)"
   ]
  },
  {
   "cell_type": "code",
   "execution_count": 29,
   "metadata": {},
   "outputs": [],
   "source": [
    "for path in list(day_dir.glob(\"**/*.zip\")):\n",
    "    df = pd.read_csv(path, header = None)\n",
    "    df.columns = header\n",
    "    df_table = pa.Table.from_pandas(df)\n",
    "    new_path = path.parent / f\"{path.stem}.parquet\"\n",
    "    pq.write_table(df_table, new_path)"
   ]
  },
  {
   "cell_type": "code",
   "execution_count": 45,
   "metadata": {},
   "outputs": [],
   "source": [
    "def read_kline_data_from_pq(data_dir, header):\n",
    "    month_dir = Path(data_dir) / f\"spot/monthly/klines\"\n",
    "    day_dir = Path(data_dir) / f\"spot/daily/klines\" \n",
    "    \n",
    "    target_pairs_month = [path.name for path in month_dir.glob(\"*\")]\n",
    "    target_pairs_day = [path.name for path in day_dir.glob(\"*\")]\n",
    "    #print(target_pairs_day)\n",
    "    assert set(target_pairs_month) == set(target_pairs_day)\n",
    "    \n",
    "    intervals = [interval.name for interval in (month_dir / target_pairs_month[0]).glob(\"*\")]\n",
    "    \n",
    "    data_dic = {}\n",
    "    for pair in target_pairs_month:\n",
    "        data_dic[pair] = {interval:None for interval in intervals}\n",
    "    \n",
    "    for pair in tqdm(data_dic):\n",
    "        for interval in data_dic[pair]:\n",
    "            temp_holder = []\n",
    "            for path in (month_dir / pair / interval).glob(\"**/*.parquet\"):\n",
    "                temp_holder.append(pq.read_table(path).to_pandas().values)\n",
    "                #temp_holder.append(pd.read_csv(zip_file, header=None).values)\n",
    "            for path in (day_dir / pair / interval).glob(\"**/*.parquet\"):\n",
    "                temp_holder.append(pq.read_table(path).to_pandas().values)\n",
    "                #temp_holder.append(pd.read_csv(zip_file, header =None).values)\n",
    "            temp = pd.DataFrame(np.concatenate(temp_holder))\n",
    "\n",
    "            temp.columns = header\n",
    "            data_dic[pair][interval] = temp\n",
    "            \n",
    "        \n",
    "        #print(memory_usage())\n",
    "        gc.collect()\n",
    "    return data_dic"
   ]
  },
  {
   "cell_type": "code",
   "execution_count": 46,
   "metadata": {},
   "outputs": [
    {
     "name": "stderr",
     "output_type": "stream",
     "text": [
      "  4%|▎         | 1/28 [00:01<00:51,  1.90s/it]\n"
     ]
    },
    {
     "ename": "ArrowInvalid",
     "evalue": "Schema at index 2 was different: \nopen_time: int64\nopen: double\nhigh: double\nlow: double\nclose: double\nvolume: double\nclose_time: int64\nquote_volume: double\ncount: int64\ntaker_buy_volume: double\ntaker_buy_quote_volume: double\nignore: double\nvs\nopen_time: int64\nopen: double\nhigh: double\nlow: double\nclose: double\nvolume: double\nclose_time: int64\nquote_volume: double\ncount: int64\ntaker_buy_volume: double\ntaker_buy_quote_volume: double\nignore: int64",
     "output_type": "error",
     "traceback": [
      "\u001b[0;31m---------------------------------------------------------------------------\u001b[0m",
      "\u001b[0;31mArrowInvalid\u001b[0m                              Traceback (most recent call last)",
      "Cell \u001b[0;32mIn[46], line 1\u001b[0m\n\u001b[0;32m----> 1\u001b[0m r \u001b[38;5;241m=\u001b[39m \u001b[43mread_kline_data_from_pq\u001b[49m\u001b[43m(\u001b[49m\u001b[43mdata_dir\u001b[49m\u001b[43m \u001b[49m\u001b[38;5;241;43m=\u001b[39;49m\u001b[43m \u001b[49m\u001b[43mdata_dir\u001b[49m\u001b[43m,\u001b[49m\u001b[43m \u001b[49m\u001b[43mheader\u001b[49m\u001b[43m \u001b[49m\u001b[38;5;241;43m=\u001b[39;49m\u001b[43m \u001b[49m\u001b[43mheader\u001b[49m\u001b[43m)\u001b[49m\n",
      "Cell \u001b[0;32mIn[45], line 25\u001b[0m, in \u001b[0;36mread_kline_data_from_pq\u001b[0;34m(data_dir, header)\u001b[0m\n\u001b[1;32m     23\u001b[0m     temp_holder\u001b[38;5;241m.\u001b[39mappend(pq\u001b[38;5;241m.\u001b[39mread_table(path))\n\u001b[1;32m     24\u001b[0m     \u001b[38;5;66;03m#temp_holder.append(pd.read_csv(zip_file, header =None).values)\u001b[39;00m\n\u001b[0;32m---> 25\u001b[0m temp \u001b[38;5;241m=\u001b[39m \u001b[43mpa\u001b[49m\u001b[38;5;241;43m.\u001b[39;49m\u001b[43mconcat_tables\u001b[49m\u001b[43m(\u001b[49m\u001b[43mtemp_holder\u001b[49m\u001b[43m)\u001b[49m\u001b[38;5;241m.\u001b[39mto_pandas()\n\u001b[1;32m     27\u001b[0m temp\u001b[38;5;241m.\u001b[39mcolumns \u001b[38;5;241m=\u001b[39m header\n\u001b[1;32m     28\u001b[0m data_dic[pair][interval] \u001b[38;5;241m=\u001b[39m temp\n",
      "File \u001b[0;32m~/miniconda3/envs/crypto_trading/lib/python3.9/site-packages/pyarrow/table.pxi:6106\u001b[0m, in \u001b[0;36mpyarrow.lib.concat_tables\u001b[0;34m()\u001b[0m\n",
      "File \u001b[0;32m~/miniconda3/envs/crypto_trading/lib/python3.9/site-packages/pyarrow/error.pxi:155\u001b[0m, in \u001b[0;36mpyarrow.lib.pyarrow_internal_check_status\u001b[0;34m()\u001b[0m\n",
      "File \u001b[0;32m~/miniconda3/envs/crypto_trading/lib/python3.9/site-packages/pyarrow/error.pxi:92\u001b[0m, in \u001b[0;36mpyarrow.lib.check_status\u001b[0;34m()\u001b[0m\n",
      "\u001b[0;31mArrowInvalid\u001b[0m: Schema at index 2 was different: \nopen_time: int64\nopen: double\nhigh: double\nlow: double\nclose: double\nvolume: double\nclose_time: int64\nquote_volume: double\ncount: int64\ntaker_buy_volume: double\ntaker_buy_quote_volume: double\nignore: double\nvs\nopen_time: int64\nopen: double\nhigh: double\nlow: double\nclose: double\nvolume: double\nclose_time: int64\nquote_volume: double\ncount: int64\ntaker_buy_volume: double\ntaker_buy_quote_volume: double\nignore: int64"
     ]
    }
   ],
   "source": [
    "r = read_kline_data_from_pq(data_dir = data_dir, header = header)"
   ]
  },
  {
   "cell_type": "code",
   "execution_count": 37,
   "metadata": {},
   "outputs": [
    {
     "name": "stderr",
     "output_type": "stream",
     "text": [
      "/root/miniconda3/envs/crypto_trading/lib/python3.9/site-packages/numpy/core/fromnumeric.py:86: FutureWarning: The behavior of DataFrame.sum with axis=None is deprecated, in a future version this will reduce over both axes and return a scalar. To retain the old behavior, pass axis=0 (or do not pass axis)\n",
      "  return reduction(axis=axis, out=out, **passkwargs)\n"
     ]
    },
    {
     "data": {
      "text/plain": [
       "True"
      ]
     },
     "execution_count": 37,
     "metadata": {},
     "output_type": "execute_result"
    }
   ],
   "source": [
    "np.sum(np.sum(r[\"BNBUSDT\"][\"15m\"] == data[\"BNBUSDT\"][\"15m\"])) == data[\"BNBUSDT\"][\"15m\"].shape[0] * data[\"BNBUSDT\"][\"15m\"].shape[1]"
   ]
  },
  {
   "cell_type": "code",
   "execution_count": 38,
   "metadata": {},
   "outputs": [],
   "source": [
    "df_1 = pd.DataFrame({'year': [2020, 2022, 2019, 2021],\n",
    "                   'n_legs': [2, 4, 5, 100],\n",
    "                   'animals': [\"Flamingo\", \"Horse\", \"Brittle stars\", \"Centipede\"]})\n",
    "tb_1 = pa.Table.from_pandas(df_1)"
   ]
  },
  {
   "cell_type": "code",
   "execution_count": 39,
   "metadata": {},
   "outputs": [],
   "source": [
    "df_2 = pd.DataFrame({'year': [2020, 2022, 2019, 2021],\n",
    "                   'n_legs': [2, 4, 5, 100],\n",
    "                   'animals': [\"Flamingo\", \"Horse\", \"Brittle stars\", \"Centipede\"]})\n",
    "tb_2 = pa.Table.from_pandas(df_2)"
   ]
  },
  {
   "cell_type": "code",
   "execution_count": 43,
   "metadata": {},
   "outputs": [],
   "source": [
    "tmp_111 = pa.concat_tables([tb_1, tb_2],unify_schemas=False)"
   ]
  },
  {
   "cell_type": "code",
   "execution_count": 44,
   "metadata": {},
   "outputs": [
    {
     "data": {
      "text/html": [
       "<div>\n",
       "<style scoped>\n",
       "    .dataframe tbody tr th:only-of-type {\n",
       "        vertical-align: middle;\n",
       "    }\n",
       "\n",
       "    .dataframe tbody tr th {\n",
       "        vertical-align: top;\n",
       "    }\n",
       "\n",
       "    .dataframe thead th {\n",
       "        text-align: right;\n",
       "    }\n",
       "</style>\n",
       "<table border=\"1\" class=\"dataframe\">\n",
       "  <thead>\n",
       "    <tr style=\"text-align: right;\">\n",
       "      <th></th>\n",
       "      <th>year</th>\n",
       "      <th>n_legs</th>\n",
       "      <th>animals</th>\n",
       "    </tr>\n",
       "  </thead>\n",
       "  <tbody>\n",
       "    <tr>\n",
       "      <th>0</th>\n",
       "      <td>2020</td>\n",
       "      <td>2</td>\n",
       "      <td>Flamingo</td>\n",
       "    </tr>\n",
       "    <tr>\n",
       "      <th>1</th>\n",
       "      <td>2022</td>\n",
       "      <td>4</td>\n",
       "      <td>Horse</td>\n",
       "    </tr>\n",
       "    <tr>\n",
       "      <th>2</th>\n",
       "      <td>2019</td>\n",
       "      <td>5</td>\n",
       "      <td>Brittle stars</td>\n",
       "    </tr>\n",
       "    <tr>\n",
       "      <th>3</th>\n",
       "      <td>2021</td>\n",
       "      <td>100</td>\n",
       "      <td>Centipede</td>\n",
       "    </tr>\n",
       "    <tr>\n",
       "      <th>4</th>\n",
       "      <td>2020</td>\n",
       "      <td>2</td>\n",
       "      <td>Flamingo</td>\n",
       "    </tr>\n",
       "    <tr>\n",
       "      <th>5</th>\n",
       "      <td>2022</td>\n",
       "      <td>4</td>\n",
       "      <td>Horse</td>\n",
       "    </tr>\n",
       "    <tr>\n",
       "      <th>6</th>\n",
       "      <td>2019</td>\n",
       "      <td>5</td>\n",
       "      <td>Brittle stars</td>\n",
       "    </tr>\n",
       "    <tr>\n",
       "      <th>7</th>\n",
       "      <td>2021</td>\n",
       "      <td>100</td>\n",
       "      <td>Centipede</td>\n",
       "    </tr>\n",
       "  </tbody>\n",
       "</table>\n",
       "</div>"
      ],
      "text/plain": [
       "   year  n_legs        animals\n",
       "0  2020       2       Flamingo\n",
       "1  2022       4          Horse\n",
       "2  2019       5  Brittle stars\n",
       "3  2021     100      Centipede\n",
       "4  2020       2       Flamingo\n",
       "5  2022       4          Horse\n",
       "6  2019       5  Brittle stars\n",
       "7  2021     100      Centipede"
      ]
     },
     "execution_count": 44,
     "metadata": {},
     "output_type": "execute_result"
    }
   ],
   "source": [
    "tmp_111.to_pandas()"
   ]
  },
  {
   "cell_type": "code",
   "execution_count": 48,
   "metadata": {},
   "outputs": [],
   "source": [
    "# save each pair-interval to a pache file\n",
    "new_save_dir = Path(\"/workspace/projects/binance-public-data/python/data/yingruiz_custom/klines\")\n",
    "for pair in data:\n",
    "    for interval in intervals:\n",
    "        df = pa.Table.from_pandas(data[pair][interval])\n",
    "        path = new_save_dir / f\"{pair}-{interval}-klines.parquet\"\n",
    "        pq.write_table(df, path)"
   ]
  },
  {
   "cell_type": "code",
   "execution_count": 7,
   "metadata": {},
   "outputs": [],
   "source": [
    "new_data = {}\n",
    "new_save_dir = Path(\"/workspace/projects/binance-public-data/python/data/yingruiz_custom/klines\")\n",
    "for path in new_save_dir.glob(\"**/*.parquet\"):\n",
    "    pair, interval, _ = path.stem.split(\"-\")\n",
    "    if not pair in new_data:\n",
    "        new_data[pair] = {}\n",
    "    new_data[pair][interval] = pd.read_parquet(path, engine='pyarrow')\n"
   ]
  },
  {
   "cell_type": "code",
   "execution_count": 55,
   "metadata": {},
   "outputs": [
    {
     "ename": "ValueError",
     "evalue": "No axis named (0, 1) for object type DataFrame",
     "output_type": "error",
     "traceback": [
      "\u001b[0;31m---------------------------------------------------------------------------\u001b[0m",
      "\u001b[0;31mKeyError\u001b[0m                                  Traceback (most recent call last)",
      "\u001b[0;32m~/miniconda3/envs/crypto_trading/lib/python3.9/site-packages/pandas/core/generic.py\u001b[0m in \u001b[0;36m?\u001b[0;34m(cls, axis)\u001b[0m\n\u001b[1;32m    576\u001b[0m             \u001b[0;32mreturn\u001b[0m \u001b[0mcls\u001b[0m\u001b[0;34m.\u001b[0m\u001b[0m_AXIS_TO_AXIS_NUMBER\u001b[0m\u001b[0;34m[\u001b[0m\u001b[0maxis\u001b[0m\u001b[0;34m]\u001b[0m\u001b[0;34m\u001b[0m\u001b[0;34m\u001b[0m\u001b[0m\n\u001b[1;32m    577\u001b[0m         \u001b[0;32mexcept\u001b[0m \u001b[0mKeyError\u001b[0m\u001b[0;34m:\u001b[0m\u001b[0;34m\u001b[0m\u001b[0;34m\u001b[0m\u001b[0m\n\u001b[0;32m--> 578\u001b[0;31m             \u001b[0;32mraise\u001b[0m \u001b[0mValueError\u001b[0m\u001b[0;34m(\u001b[0m\u001b[0;34mf\"No axis named {axis} for object type {cls.__name__}\"\u001b[0m\u001b[0;34m)\u001b[0m\u001b[0;34m\u001b[0m\u001b[0;34m\u001b[0m\u001b[0m\n\u001b[0m",
      "\u001b[0;31mKeyError\u001b[0m: (0, 1)",
      "\nDuring handling of the above exception, another exception occurred:\n",
      "\u001b[0;31mValueError\u001b[0m                                Traceback (most recent call last)",
      "\u001b[0;32m/tmp/ipykernel_215663/3778207579.py\u001b[0m in \u001b[0;36m?\u001b[0;34m()\u001b[0m\n\u001b[0;32m----> 1\u001b[0;31m \u001b[0mnp\u001b[0m\u001b[0;34m.\u001b[0m\u001b[0msum\u001b[0m\u001b[0;34m(\u001b[0m\u001b[0mdata\u001b[0m\u001b[0;34m[\u001b[0m\u001b[0;34m\"SUNUSDT\"\u001b[0m\u001b[0;34m]\u001b[0m\u001b[0;34m[\u001b[0m\u001b[0;34m\"15m\"\u001b[0m\u001b[0;34m]\u001b[0m\u001b[0;34m,\u001b[0m \u001b[0maxis\u001b[0m\u001b[0;34m=\u001b[0m\u001b[0;34m(\u001b[0m\u001b[0;36m0\u001b[0m\u001b[0;34m,\u001b[0m\u001b[0;36m1\u001b[0m\u001b[0;34m)\u001b[0m\u001b[0;34m)\u001b[0m\u001b[0;34m\u001b[0m\u001b[0;34m\u001b[0m\u001b[0m\n\u001b[0m",
      "\u001b[0;32m~/miniconda3/envs/crypto_trading/lib/python3.9/site-packages/numpy/core/fromnumeric.py\u001b[0m in \u001b[0;36m?\u001b[0;34m(a, axis, dtype, out, keepdims, initial, where)\u001b[0m\n\u001b[1;32m   2309\u001b[0m             \u001b[0mout\u001b[0m\u001b[0;34m[\u001b[0m\u001b[0;34m...\u001b[0m\u001b[0;34m]\u001b[0m \u001b[0;34m=\u001b[0m \u001b[0mres\u001b[0m\u001b[0;34m\u001b[0m\u001b[0;34m\u001b[0m\u001b[0m\n\u001b[1;32m   2310\u001b[0m             \u001b[0;32mreturn\u001b[0m \u001b[0mout\u001b[0m\u001b[0;34m\u001b[0m\u001b[0;34m\u001b[0m\u001b[0m\n\u001b[1;32m   2311\u001b[0m         \u001b[0;32mreturn\u001b[0m \u001b[0mres\u001b[0m\u001b[0;34m\u001b[0m\u001b[0;34m\u001b[0m\u001b[0m\n\u001b[1;32m   2312\u001b[0m \u001b[0;34m\u001b[0m\u001b[0m\n\u001b[0;32m-> 2313\u001b[0;31m     return _wrapreduction(a, np.add, 'sum', axis, dtype, out, keepdims=keepdims,\n\u001b[0m\u001b[1;32m   2314\u001b[0m                           initial=initial, where=where)\n",
      "\u001b[0;32m~/miniconda3/envs/crypto_trading/lib/python3.9/site-packages/numpy/core/fromnumeric.py\u001b[0m in \u001b[0;36m?\u001b[0;34m(obj, ufunc, method, axis, dtype, out, **kwargs)\u001b[0m\n\u001b[1;32m     82\u001b[0m             \u001b[0;31m# support a dtype.\u001b[0m\u001b[0;34m\u001b[0m\u001b[0;34m\u001b[0m\u001b[0m\n\u001b[1;32m     83\u001b[0m             \u001b[0;32mif\u001b[0m \u001b[0mdtype\u001b[0m \u001b[0;32mis\u001b[0m \u001b[0;32mnot\u001b[0m \u001b[0;32mNone\u001b[0m\u001b[0;34m:\u001b[0m\u001b[0;34m\u001b[0m\u001b[0;34m\u001b[0m\u001b[0m\n\u001b[1;32m     84\u001b[0m                 \u001b[0;32mreturn\u001b[0m \u001b[0mreduction\u001b[0m\u001b[0;34m(\u001b[0m\u001b[0maxis\u001b[0m\u001b[0;34m=\u001b[0m\u001b[0maxis\u001b[0m\u001b[0;34m,\u001b[0m \u001b[0mdtype\u001b[0m\u001b[0;34m=\u001b[0m\u001b[0mdtype\u001b[0m\u001b[0;34m,\u001b[0m \u001b[0mout\u001b[0m\u001b[0;34m=\u001b[0m\u001b[0mout\u001b[0m\u001b[0;34m,\u001b[0m \u001b[0;34m**\u001b[0m\u001b[0mpasskwargs\u001b[0m\u001b[0;34m)\u001b[0m\u001b[0;34m\u001b[0m\u001b[0;34m\u001b[0m\u001b[0m\n\u001b[1;32m     85\u001b[0m             \u001b[0;32melse\u001b[0m\u001b[0;34m:\u001b[0m\u001b[0;34m\u001b[0m\u001b[0;34m\u001b[0m\u001b[0m\n\u001b[0;32m---> 86\u001b[0;31m                 \u001b[0;32mreturn\u001b[0m \u001b[0mreduction\u001b[0m\u001b[0;34m(\u001b[0m\u001b[0maxis\u001b[0m\u001b[0;34m=\u001b[0m\u001b[0maxis\u001b[0m\u001b[0;34m,\u001b[0m \u001b[0mout\u001b[0m\u001b[0;34m=\u001b[0m\u001b[0mout\u001b[0m\u001b[0;34m,\u001b[0m \u001b[0;34m**\u001b[0m\u001b[0mpasskwargs\u001b[0m\u001b[0;34m)\u001b[0m\u001b[0;34m\u001b[0m\u001b[0;34m\u001b[0m\u001b[0m\n\u001b[0m\u001b[1;32m     87\u001b[0m \u001b[0;34m\u001b[0m\u001b[0m\n\u001b[1;32m     88\u001b[0m     \u001b[0;32mreturn\u001b[0m \u001b[0mufunc\u001b[0m\u001b[0;34m.\u001b[0m\u001b[0mreduce\u001b[0m\u001b[0;34m(\u001b[0m\u001b[0mobj\u001b[0m\u001b[0;34m,\u001b[0m \u001b[0maxis\u001b[0m\u001b[0;34m,\u001b[0m \u001b[0mdtype\u001b[0m\u001b[0;34m,\u001b[0m \u001b[0mout\u001b[0m\u001b[0;34m,\u001b[0m \u001b[0;34m**\u001b[0m\u001b[0mpasskwargs\u001b[0m\u001b[0;34m)\u001b[0m\u001b[0;34m\u001b[0m\u001b[0;34m\u001b[0m\u001b[0m\n",
      "\u001b[0;32m~/miniconda3/envs/crypto_trading/lib/python3.9/site-packages/pandas/core/frame.py\u001b[0m in \u001b[0;36m?\u001b[0;34m(self, axis, skipna, numeric_only, min_count, **kwargs)\u001b[0m\n\u001b[1;32m  11666\u001b[0m         \u001b[0mnumeric_only\u001b[0m\u001b[0;34m:\u001b[0m \u001b[0mbool\u001b[0m \u001b[0;34m=\u001b[0m \u001b[0;32mFalse\u001b[0m\u001b[0;34m,\u001b[0m\u001b[0;34m\u001b[0m\u001b[0;34m\u001b[0m\u001b[0m\n\u001b[1;32m  11667\u001b[0m         \u001b[0mmin_count\u001b[0m\u001b[0;34m:\u001b[0m \u001b[0mint\u001b[0m \u001b[0;34m=\u001b[0m \u001b[0;36m0\u001b[0m\u001b[0;34m,\u001b[0m\u001b[0;34m\u001b[0m\u001b[0;34m\u001b[0m\u001b[0m\n\u001b[1;32m  11668\u001b[0m         \u001b[0;34m**\u001b[0m\u001b[0mkwargs\u001b[0m\u001b[0;34m,\u001b[0m\u001b[0;34m\u001b[0m\u001b[0;34m\u001b[0m\u001b[0m\n\u001b[1;32m  11669\u001b[0m     ):\n\u001b[0;32m> 11670\u001b[0;31m         \u001b[0mresult\u001b[0m \u001b[0;34m=\u001b[0m \u001b[0msuper\u001b[0m\u001b[0;34m(\u001b[0m\u001b[0;34m)\u001b[0m\u001b[0;34m.\u001b[0m\u001b[0msum\u001b[0m\u001b[0;34m(\u001b[0m\u001b[0maxis\u001b[0m\u001b[0;34m,\u001b[0m \u001b[0mskipna\u001b[0m\u001b[0;34m,\u001b[0m \u001b[0mnumeric_only\u001b[0m\u001b[0;34m,\u001b[0m \u001b[0mmin_count\u001b[0m\u001b[0;34m,\u001b[0m \u001b[0;34m**\u001b[0m\u001b[0mkwargs\u001b[0m\u001b[0;34m)\u001b[0m\u001b[0;34m\u001b[0m\u001b[0;34m\u001b[0m\u001b[0m\n\u001b[0m\u001b[1;32m  11671\u001b[0m         \u001b[0;32mreturn\u001b[0m \u001b[0mresult\u001b[0m\u001b[0;34m.\u001b[0m\u001b[0m__finalize__\u001b[0m\u001b[0;34m(\u001b[0m\u001b[0mself\u001b[0m\u001b[0;34m,\u001b[0m \u001b[0mmethod\u001b[0m\u001b[0;34m=\u001b[0m\u001b[0;34m\"sum\"\u001b[0m\u001b[0;34m)\u001b[0m\u001b[0;34m\u001b[0m\u001b[0;34m\u001b[0m\u001b[0m\n",
      "\u001b[0;32m~/miniconda3/envs/crypto_trading/lib/python3.9/site-packages/pandas/core/generic.py\u001b[0m in \u001b[0;36m?\u001b[0;34m(self, axis, skipna, numeric_only, min_count, **kwargs)\u001b[0m\n\u001b[1;32m  12502\u001b[0m         \u001b[0mnumeric_only\u001b[0m\u001b[0;34m:\u001b[0m \u001b[0mbool_t\u001b[0m \u001b[0;34m=\u001b[0m \u001b[0;32mFalse\u001b[0m\u001b[0;34m,\u001b[0m\u001b[0;34m\u001b[0m\u001b[0;34m\u001b[0m\u001b[0m\n\u001b[1;32m  12503\u001b[0m         \u001b[0mmin_count\u001b[0m\u001b[0;34m:\u001b[0m \u001b[0mint\u001b[0m \u001b[0;34m=\u001b[0m \u001b[0;36m0\u001b[0m\u001b[0;34m,\u001b[0m\u001b[0;34m\u001b[0m\u001b[0;34m\u001b[0m\u001b[0m\n\u001b[1;32m  12504\u001b[0m         \u001b[0;34m**\u001b[0m\u001b[0mkwargs\u001b[0m\u001b[0;34m,\u001b[0m\u001b[0;34m\u001b[0m\u001b[0;34m\u001b[0m\u001b[0m\n\u001b[1;32m  12505\u001b[0m     ):\n\u001b[0;32m> 12506\u001b[0;31m         return self._min_count_stat_function(\n\u001b[0m\u001b[1;32m  12507\u001b[0m             \u001b[0;34m\"sum\"\u001b[0m\u001b[0;34m,\u001b[0m \u001b[0mnanops\u001b[0m\u001b[0;34m.\u001b[0m\u001b[0mnansum\u001b[0m\u001b[0;34m,\u001b[0m \u001b[0maxis\u001b[0m\u001b[0;34m,\u001b[0m \u001b[0mskipna\u001b[0m\u001b[0;34m,\u001b[0m \u001b[0mnumeric_only\u001b[0m\u001b[0;34m,\u001b[0m \u001b[0mmin_count\u001b[0m\u001b[0;34m,\u001b[0m \u001b[0;34m**\u001b[0m\u001b[0mkwargs\u001b[0m\u001b[0;34m\u001b[0m\u001b[0;34m\u001b[0m\u001b[0m\n\u001b[1;32m  12508\u001b[0m         )\n",
      "\u001b[0;32m~/miniconda3/envs/crypto_trading/lib/python3.9/site-packages/pandas/core/generic.py\u001b[0m in \u001b[0;36m?\u001b[0;34m(self, name, func, axis, skipna, numeric_only, min_count, **kwargs)\u001b[0m\n\u001b[1;32m  12485\u001b[0m             \u001b[0maxis\u001b[0m \u001b[0;34m=\u001b[0m \u001b[0;36m0\u001b[0m\u001b[0;34m\u001b[0m\u001b[0;34m\u001b[0m\u001b[0m\n\u001b[1;32m  12486\u001b[0m         \u001b[0;32melif\u001b[0m \u001b[0maxis\u001b[0m \u001b[0;32mis\u001b[0m \u001b[0mlib\u001b[0m\u001b[0;34m.\u001b[0m\u001b[0mno_default\u001b[0m\u001b[0;34m:\u001b[0m\u001b[0;34m\u001b[0m\u001b[0;34m\u001b[0m\u001b[0m\n\u001b[1;32m  12487\u001b[0m             \u001b[0maxis\u001b[0m \u001b[0;34m=\u001b[0m \u001b[0;36m0\u001b[0m\u001b[0;34m\u001b[0m\u001b[0;34m\u001b[0m\u001b[0m\n\u001b[1;32m  12488\u001b[0m \u001b[0;34m\u001b[0m\u001b[0m\n\u001b[0;32m> 12489\u001b[0;31m         return self._reduce(\n\u001b[0m\u001b[1;32m  12490\u001b[0m             \u001b[0mfunc\u001b[0m\u001b[0;34m,\u001b[0m\u001b[0;34m\u001b[0m\u001b[0;34m\u001b[0m\u001b[0m\n\u001b[1;32m  12491\u001b[0m             \u001b[0mname\u001b[0m\u001b[0;34m=\u001b[0m\u001b[0mname\u001b[0m\u001b[0;34m,\u001b[0m\u001b[0;34m\u001b[0m\u001b[0;34m\u001b[0m\u001b[0m\n\u001b[1;32m  12492\u001b[0m             \u001b[0maxis\u001b[0m\u001b[0;34m=\u001b[0m\u001b[0maxis\u001b[0m\u001b[0;34m,\u001b[0m\u001b[0;34m\u001b[0m\u001b[0;34m\u001b[0m\u001b[0m\n",
      "\u001b[0;32m~/miniconda3/envs/crypto_trading/lib/python3.9/site-packages/pandas/core/frame.py\u001b[0m in \u001b[0;36m?\u001b[0;34m(self, op, name, axis, skipna, numeric_only, filter_type, **kwds)\u001b[0m\n\u001b[1;32m  11446\u001b[0m         \u001b[0;32massert\u001b[0m \u001b[0mfilter_type\u001b[0m \u001b[0;32mis\u001b[0m \u001b[0;32mNone\u001b[0m \u001b[0;32mor\u001b[0m \u001b[0mfilter_type\u001b[0m \u001b[0;34m==\u001b[0m \u001b[0;34m\"bool\"\u001b[0m\u001b[0;34m,\u001b[0m \u001b[0mfilter_type\u001b[0m\u001b[0;34m\u001b[0m\u001b[0;34m\u001b[0m\u001b[0m\n\u001b[1;32m  11447\u001b[0m         \u001b[0mout_dtype\u001b[0m \u001b[0;34m=\u001b[0m \u001b[0;34m\"bool\"\u001b[0m \u001b[0;32mif\u001b[0m \u001b[0mfilter_type\u001b[0m \u001b[0;34m==\u001b[0m \u001b[0;34m\"bool\"\u001b[0m \u001b[0;32melse\u001b[0m \u001b[0;32mNone\u001b[0m\u001b[0;34m\u001b[0m\u001b[0;34m\u001b[0m\u001b[0m\n\u001b[1;32m  11448\u001b[0m \u001b[0;34m\u001b[0m\u001b[0m\n\u001b[1;32m  11449\u001b[0m         \u001b[0;32mif\u001b[0m \u001b[0maxis\u001b[0m \u001b[0;32mis\u001b[0m \u001b[0;32mnot\u001b[0m \u001b[0;32mNone\u001b[0m\u001b[0;34m:\u001b[0m\u001b[0;34m\u001b[0m\u001b[0;34m\u001b[0m\u001b[0m\n\u001b[0;32m> 11450\u001b[0;31m             \u001b[0maxis\u001b[0m \u001b[0;34m=\u001b[0m \u001b[0mself\u001b[0m\u001b[0;34m.\u001b[0m\u001b[0m_get_axis_number\u001b[0m\u001b[0;34m(\u001b[0m\u001b[0maxis\u001b[0m\u001b[0;34m)\u001b[0m\u001b[0;34m\u001b[0m\u001b[0;34m\u001b[0m\u001b[0m\n\u001b[0m\u001b[1;32m  11451\u001b[0m \u001b[0;34m\u001b[0m\u001b[0m\n\u001b[1;32m  11452\u001b[0m         \u001b[0;32mdef\u001b[0m \u001b[0mfunc\u001b[0m\u001b[0;34m(\u001b[0m\u001b[0mvalues\u001b[0m\u001b[0;34m:\u001b[0m \u001b[0mnp\u001b[0m\u001b[0;34m.\u001b[0m\u001b[0mndarray\u001b[0m\u001b[0;34m)\u001b[0m\u001b[0;34m:\u001b[0m\u001b[0;34m\u001b[0m\u001b[0;34m\u001b[0m\u001b[0m\n\u001b[1;32m  11453\u001b[0m             \u001b[0;31m# We only use this in the case that operates on self.values\u001b[0m\u001b[0;34m\u001b[0m\u001b[0;34m\u001b[0m\u001b[0m\n",
      "\u001b[0;32m~/miniconda3/envs/crypto_trading/lib/python3.9/site-packages/pandas/core/generic.py\u001b[0m in \u001b[0;36m?\u001b[0;34m(cls, axis)\u001b[0m\n\u001b[1;32m    574\u001b[0m     \u001b[0;32mdef\u001b[0m \u001b[0m_get_axis_number\u001b[0m\u001b[0;34m(\u001b[0m\u001b[0mcls\u001b[0m\u001b[0;34m,\u001b[0m \u001b[0maxis\u001b[0m\u001b[0;34m:\u001b[0m \u001b[0mAxis\u001b[0m\u001b[0;34m)\u001b[0m \u001b[0;34m->\u001b[0m \u001b[0mAxisInt\u001b[0m\u001b[0;34m:\u001b[0m\u001b[0;34m\u001b[0m\u001b[0;34m\u001b[0m\u001b[0m\n\u001b[1;32m    575\u001b[0m         \u001b[0;32mtry\u001b[0m\u001b[0;34m:\u001b[0m\u001b[0;34m\u001b[0m\u001b[0;34m\u001b[0m\u001b[0m\n\u001b[1;32m    576\u001b[0m             \u001b[0;32mreturn\u001b[0m \u001b[0mcls\u001b[0m\u001b[0;34m.\u001b[0m\u001b[0m_AXIS_TO_AXIS_NUMBER\u001b[0m\u001b[0;34m[\u001b[0m\u001b[0maxis\u001b[0m\u001b[0;34m]\u001b[0m\u001b[0;34m\u001b[0m\u001b[0;34m\u001b[0m\u001b[0m\n\u001b[1;32m    577\u001b[0m         \u001b[0;32mexcept\u001b[0m \u001b[0mKeyError\u001b[0m\u001b[0;34m:\u001b[0m\u001b[0;34m\u001b[0m\u001b[0;34m\u001b[0m\u001b[0m\n\u001b[0;32m--> 578\u001b[0;31m             \u001b[0;32mraise\u001b[0m \u001b[0mValueError\u001b[0m\u001b[0;34m(\u001b[0m\u001b[0;34mf\"No axis named {axis} for object type {cls.__name__}\"\u001b[0m\u001b[0;34m)\u001b[0m\u001b[0;34m\u001b[0m\u001b[0;34m\u001b[0m\u001b[0m\n\u001b[0m",
      "\u001b[0;31mValueError\u001b[0m: No axis named (0, 1) for object type DataFrame"
     ]
    }
   ],
   "source": [
    "np.sum(data[\"SUNUSDT\"][\"15m\"], axis=(0,1))"
   ]
  },
  {
   "cell_type": "code",
   "execution_count": 10,
   "metadata": {},
   "outputs": [
    {
     "name": "stderr",
     "output_type": "stream",
     "text": [
      "/root/miniconda3/envs/crypto_trading/lib/python3.9/site-packages/numpy/core/fromnumeric.py:86: FutureWarning: The behavior of DataFrame.sum with axis=None is deprecated, in a future version this will reduce over both axes and return a scalar. To retain the old behavior, pass axis=0 (or do not pass axis)\n",
      "  return reduction(axis=axis, out=out, **passkwargs)\n"
     ]
    }
   ],
   "source": [
    "for pair in data:\n",
    "    for interval in intervals:\n",
    "        shape_1 = new_data[pair][interval].shape\n",
    "        shape_2 = data[pair][interval].shape\n",
    "        assert shape_1 == shape_2\n",
    "        assert np.sum(np.sum(data[pair][interval] == new_data[pair][interval] )) == shape_2[0] * shape_2[-1]\n",
    "        "
   ]
  },
  {
   "cell_type": "code",
   "execution_count": 11,
   "metadata": {},
   "outputs": [
    {
     "data": {
      "text/plain": [
       "open_time                 3.421219e+14\n",
       "open                      8.829290e+00\n",
       "high                      1.007749e+01\n",
       "low                       7.683260e+00\n",
       "close                     8.786320e+00\n",
       "volume                    2.207577e+11\n",
       "close_time                3.422465e+14\n",
       "quote_volume              1.173636e+10\n",
       "count                     3.178302e+07\n",
       "taker_buy_volume          1.122966e+11\n",
       "taker_buy_quote_volume    5.995476e+09\n",
       "ignore                    0.000000e+00\n",
       "dtype: float64"
      ]
     },
     "execution_count": 11,
     "metadata": {},
     "output_type": "execute_result"
    }
   ],
   "source": [
    "data[pair][interval].sum()"
   ]
  },
  {
   "cell_type": "code",
   "execution_count": 12,
   "metadata": {},
   "outputs": [
    {
     "data": {
      "text/plain": [
       "'2.2.2'"
      ]
     },
     "execution_count": 12,
     "metadata": {},
     "output_type": "execute_result"
    }
   ],
   "source": [
    "pd.__version__"
   ]
  },
  {
   "cell_type": "code",
   "execution_count": null,
   "metadata": {},
   "outputs": [],
   "source": []
  }
 ],
 "metadata": {
  "kernelspec": {
   "display_name": "crypto_trading",
   "language": "python",
   "name": "python3"
  },
  "language_info": {
   "codemirror_mode": {
    "name": "ipython",
    "version": 3
   },
   "file_extension": ".py",
   "mimetype": "text/x-python",
   "name": "python",
   "nbconvert_exporter": "python",
   "pygments_lexer": "ipython3",
   "version": "3.9.18"
  }
 },
 "nbformat": 4,
 "nbformat_minor": 2
}
